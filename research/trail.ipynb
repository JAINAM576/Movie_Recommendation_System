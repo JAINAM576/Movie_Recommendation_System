{
 "cells": [
  {
   "cell_type": "markdown",
   "metadata": {},
   "source": [
    "# MAKING MOVIE RECOMMENDATE SYSTEM\n",
    "- USING KAGGLE DATASET/\n",
    "- ON CPU \n",
    "- LANGUAGE : python(3.12.7)\n",
    "- libraries : requirements.txt\n",
    "- similarity method not decided yet.\n",
    "- After preprocessed working on unique movie data."
   ]
  },
  {
   "cell_type": "code",
   "execution_count": 1,
   "metadata": {},
   "outputs": [],
   "source": [
    "import warnings\n",
    "warnings.filterwarnings(\"ignore\")\n"
   ]
  },
  {
   "cell_type": "code",
   "execution_count": 3,
   "metadata": {},
   "outputs": [],
   "source": [
    "import os \n",
    "import pandas as pd \n",
    "import numpy as np "
   ]
  },
  {
   "cell_type": "code",
   "execution_count": 4,
   "metadata": {},
   "outputs": [],
   "source": [
    "%pwd\n",
    "os.chdir(\"../\")"
   ]
  },
  {
   "cell_type": "code",
   "execution_count": 5,
   "metadata": {},
   "outputs": [
    {
     "data": {
      "text/plain": [
       "'c:\\\\Users\\\\HP\\\\Documents\\\\Movie_Recommendation_System'"
      ]
     },
     "execution_count": 5,
     "metadata": {},
     "output_type": "execute_result"
    }
   ],
   "source": [
    "%pwd"
   ]
  },
  {
   "cell_type": "code",
   "execution_count": 18,
   "metadata": {},
   "outputs": [],
   "source": [
    "data_path=\"Data/TMDB_all_movies.csv\"\n",
    "poster_path=\"https://image.tmdb.org/t/p/original/\""
   ]
  },
  {
   "cell_type": "code",
   "execution_count": 7,
   "metadata": {},
   "outputs": [],
   "source": [
    "df=pd.read_csv(data_path)"
   ]
  },
  {
   "cell_type": "markdown",
   "metadata": {},
   "source": [
    "# DATA UNDERSTANDING"
   ]
  },
  {
   "cell_type": "code",
   "execution_count": 8,
   "metadata": {},
   "outputs": [
    {
     "data": {
      "text/html": [
       "<div>\n",
       "<style scoped>\n",
       "    .dataframe tbody tr th:only-of-type {\n",
       "        vertical-align: middle;\n",
       "    }\n",
       "\n",
       "    .dataframe tbody tr th {\n",
       "        vertical-align: top;\n",
       "    }\n",
       "\n",
       "    .dataframe thead th {\n",
       "        text-align: right;\n",
       "    }\n",
       "</style>\n",
       "<table border=\"1\" class=\"dataframe\">\n",
       "  <thead>\n",
       "    <tr style=\"text-align: right;\">\n",
       "      <th></th>\n",
       "      <th>id</th>\n",
       "      <th>title</th>\n",
       "      <th>vote_average</th>\n",
       "      <th>vote_count</th>\n",
       "      <th>status</th>\n",
       "      <th>release_date</th>\n",
       "      <th>revenue</th>\n",
       "      <th>runtime</th>\n",
       "      <th>budget</th>\n",
       "      <th>imdb_id</th>\n",
       "      <th>...</th>\n",
       "      <th>spoken_languages</th>\n",
       "      <th>cast</th>\n",
       "      <th>director</th>\n",
       "      <th>director_of_photography</th>\n",
       "      <th>writers</th>\n",
       "      <th>producers</th>\n",
       "      <th>music_composer</th>\n",
       "      <th>imdb_rating</th>\n",
       "      <th>imdb_votes</th>\n",
       "      <th>poster_path</th>\n",
       "    </tr>\n",
       "  </thead>\n",
       "  <tbody>\n",
       "    <tr>\n",
       "      <th>0</th>\n",
       "      <td>2</td>\n",
       "      <td>Ariel</td>\n",
       "      <td>7.1</td>\n",
       "      <td>340.0</td>\n",
       "      <td>Released</td>\n",
       "      <td>1988-10-21</td>\n",
       "      <td>0.0</td>\n",
       "      <td>73.0</td>\n",
       "      <td>0.0</td>\n",
       "      <td>tt0094675</td>\n",
       "      <td>...</td>\n",
       "      <td>suomi</td>\n",
       "      <td>Eetu Hilkamo, Turo Pajala, Jorma Markkula, Han...</td>\n",
       "      <td>Aki Kaurismäki</td>\n",
       "      <td>Timo Salminen</td>\n",
       "      <td>Aki Kaurismäki</td>\n",
       "      <td>Aki Kaurismäki</td>\n",
       "      <td>NaN</td>\n",
       "      <td>7.4</td>\n",
       "      <td>9066.0</td>\n",
       "      <td>/ojDg0PGvs6R9xYFodRct2kdI6wC.jpg</td>\n",
       "    </tr>\n",
       "  </tbody>\n",
       "</table>\n",
       "<p>1 rows × 28 columns</p>\n",
       "</div>"
      ],
      "text/plain": [
       "   id  title  vote_average  vote_count    status release_date  revenue  \\\n",
       "0   2  Ariel           7.1       340.0  Released   1988-10-21      0.0   \n",
       "\n",
       "   runtime  budget    imdb_id  ... spoken_languages  \\\n",
       "0     73.0     0.0  tt0094675  ...            suomi   \n",
       "\n",
       "                                                cast        director  \\\n",
       "0  Eetu Hilkamo, Turo Pajala, Jorma Markkula, Han...  Aki Kaurismäki   \n",
       "\n",
       "   director_of_photography         writers       producers music_composer  \\\n",
       "0            Timo Salminen  Aki Kaurismäki  Aki Kaurismäki            NaN   \n",
       "\n",
       "  imdb_rating imdb_votes                       poster_path  \n",
       "0         7.4     9066.0  /ojDg0PGvs6R9xYFodRct2kdI6wC.jpg  \n",
       "\n",
       "[1 rows x 28 columns]"
      ]
     },
     "execution_count": 8,
     "metadata": {},
     "output_type": "execute_result"
    }
   ],
   "source": [
    "df.head(1)"
   ]
  },
  {
   "cell_type": "code",
   "execution_count": 11,
   "metadata": {},
   "outputs": [
    {
     "name": "stdout",
     "output_type": "stream",
     "text": [
      "<class 'pandas.core.frame.DataFrame'>\n",
      "RangeIndex: 1073767 entries, 0 to 1073766\n",
      "Data columns (total 28 columns):\n",
      " #   Column                   Non-Null Count    Dtype  \n",
      "---  ------                   --------------    -----  \n",
      " 0   id                       1073767 non-null  int64  \n",
      " 1   title                    1073754 non-null  object \n",
      " 2   vote_average             1073765 non-null  float64\n",
      " 3   vote_count               1073765 non-null  float64\n",
      " 4   status                   1073765 non-null  object \n",
      " 5   release_date             951368 non-null   object \n",
      " 6   revenue                  1073765 non-null  float64\n",
      " 7   runtime                  1073765 non-null  float64\n",
      " 8   budget                   1073765 non-null  float64\n",
      " 9   imdb_id                  610984 non-null   object \n",
      " 10  original_language        1073765 non-null  object \n",
      " 11  original_title           1073755 non-null  object \n",
      " 12  overview                 883928 non-null   object \n",
      " 13  popularity               1073765 non-null  float64\n",
      " 14  tagline                  162167 non-null   object \n",
      " 15  genres                   766238 non-null   object \n",
      " 16  production_companies     498972 non-null   object \n",
      " 17  production_countries     649283 non-null   object \n",
      " 18  spoken_languages         663395 non-null   object \n",
      " 19  cast                     719568 non-null   object \n",
      " 20  director                 882005 non-null   object \n",
      " 21  director_of_photography  263156 non-null   object \n",
      " 22  writers                  524728 non-null   object \n",
      " 23  producers                346603 non-null   object \n",
      " 24  music_composer           108086 non-null   object \n",
      " 25  imdb_rating              442571 non-null   float64\n",
      " 26  imdb_votes               442571 non-null   float64\n",
      " 27  poster_path              772141 non-null   object \n",
      "dtypes: float64(8), int64(1), object(19)\n",
      "memory usage: 229.4+ MB\n"
     ]
    }
   ],
   "source": [
    "df.info()"
   ]
  },
  {
   "cell_type": "code",
   "execution_count": 9,
   "metadata": {},
   "outputs": [
    {
     "name": "stdout",
     "output_type": "stream",
     "text": [
      "Shape of data is : (1073767, 28)\n"
     ]
    }
   ],
   "source": [
    "print(\"Shape of data is :\",df.shape)"
   ]
  },
  {
   "cell_type": "code",
   "execution_count": 10,
   "metadata": {},
   "outputs": [
    {
     "data": {
      "text/plain": [
       "1073767"
      ]
     },
     "execution_count": 10,
     "metadata": {},
     "output_type": "execute_result"
    }
   ],
   "source": [
    "df[\"id\"].nunique()"
   ]
  },
  {
   "cell_type": "code",
   "execution_count": 11,
   "metadata": {},
   "outputs": [
    {
     "data": {
      "text/plain": [
       "609836"
      ]
     },
     "execution_count": 11,
     "metadata": {},
     "output_type": "execute_result"
    }
   ],
   "source": [
    "df[\"imdb_id\"].nunique()"
   ]
  },
  {
   "cell_type": "code",
   "execution_count": 12,
   "metadata": {},
   "outputs": [
    {
     "name": "stdout",
     "output_type": "stream",
     "text": [
      "Total Null Values in DataSet : 8566316\n"
     ]
    }
   ],
   "source": [
    "print(\"Total Null Values in DataSet :\", df.isnull().sum().sum())"
   ]
  },
  {
   "cell_type": "markdown",
   "metadata": {},
   "source": [
    "# DATA PREPROCESSING "
   ]
  },
  {
   "cell_type": "code",
   "execution_count": 13,
   "metadata": {},
   "outputs": [],
   "source": [
    "# droping NULL VALUES \n",
    "df.dropna(inplace=True)"
   ]
  },
  {
   "cell_type": "code",
   "execution_count": 14,
   "metadata": {},
   "outputs": [
    {
     "name": "stdout",
     "output_type": "stream",
     "text": [
      "*****After Removing Null Values*****\n",
      "Shape of data  is : (26820, 28)\n"
     ]
    }
   ],
   "source": [
    "print(\"*\"*5+\"After Removing Null Values\"+\"*\"*5)\n",
    "print(\"Shape of data  is :\",df.shape)"
   ]
  },
  {
   "cell_type": "code",
   "execution_count": 15,
   "metadata": {},
   "outputs": [
    {
     "name": "stdout",
     "output_type": "stream",
     "text": [
      "Duplicate values in data is : 0\n"
     ]
    }
   ],
   "source": [
    "print(\"Duplicate values in data is :\",df.duplicated().sum())"
   ]
  },
  {
   "cell_type": "code",
   "execution_count": 16,
   "metadata": {},
   "outputs": [
    {
     "name": "stdout",
     "output_type": "stream",
     "text": [
      "Unique id: 26820\n",
      "Unique Imdb id: 26820\n"
     ]
    }
   ],
   "source": [
    "print(\"Unique id:\",df[\"id\"].nunique())\n",
    "print(\"Unique Imdb id:\",df[\"imdb_id\"].nunique())"
   ]
  },
  {
   "cell_type": "code",
   "execution_count": 17,
   "metadata": {},
   "outputs": [
    {
     "name": "stdout",
     "output_type": "stream",
     "text": [
      "<class 'pandas.core.frame.DataFrame'>\n",
      "Index: 26820 entries, 2 to 1060933\n",
      "Data columns (total 28 columns):\n",
      " #   Column                   Non-Null Count  Dtype  \n",
      "---  ------                   --------------  -----  \n",
      " 0   id                       26820 non-null  int64  \n",
      " 1   title                    26820 non-null  object \n",
      " 2   vote_average             26820 non-null  float64\n",
      " 3   vote_count               26820 non-null  float64\n",
      " 4   status                   26820 non-null  object \n",
      " 5   release_date             26820 non-null  object \n",
      " 6   revenue                  26820 non-null  float64\n",
      " 7   runtime                  26820 non-null  float64\n",
      " 8   budget                   26820 non-null  float64\n",
      " 9   imdb_id                  26820 non-null  object \n",
      " 10  original_language        26820 non-null  object \n",
      " 11  original_title           26820 non-null  object \n",
      " 12  overview                 26820 non-null  object \n",
      " 13  popularity               26820 non-null  float64\n",
      " 14  tagline                  26820 non-null  object \n",
      " 15  genres                   26820 non-null  object \n",
      " 16  production_companies     26820 non-null  object \n",
      " 17  production_countries     26820 non-null  object \n",
      " 18  spoken_languages         26820 non-null  object \n",
      " 19  cast                     26820 non-null  object \n",
      " 20  director                 26820 non-null  object \n",
      " 21  director_of_photography  26820 non-null  object \n",
      " 22  writers                  26820 non-null  object \n",
      " 23  producers                26820 non-null  object \n",
      " 24  music_composer           26820 non-null  object \n",
      " 25  imdb_rating              26820 non-null  float64\n",
      " 26  imdb_votes               26820 non-null  float64\n",
      " 27  poster_path              26820 non-null  object \n",
      "dtypes: float64(8), int64(1), object(19)\n",
      "memory usage: 5.9+ MB\n"
     ]
    }
   ],
   "source": [
    "df.info()"
   ]
  },
  {
   "cell_type": "code",
   "execution_count": 30,
   "metadata": {},
   "outputs": [
    {
     "data": {
      "text/html": [
       "<div>\n",
       "<style scoped>\n",
       "    .dataframe tbody tr th:only-of-type {\n",
       "        vertical-align: middle;\n",
       "    }\n",
       "\n",
       "    .dataframe tbody tr th {\n",
       "        vertical-align: top;\n",
       "    }\n",
       "\n",
       "    .dataframe thead th {\n",
       "        text-align: right;\n",
       "    }\n",
       "</style>\n",
       "<table border=\"1\" class=\"dataframe\">\n",
       "  <thead>\n",
       "    <tr style=\"text-align: right;\">\n",
       "      <th></th>\n",
       "      <th>id</th>\n",
       "      <th>vote_average</th>\n",
       "      <th>vote_count</th>\n",
       "      <th>revenue</th>\n",
       "      <th>runtime</th>\n",
       "      <th>budget</th>\n",
       "      <th>popularity</th>\n",
       "      <th>imdb_rating</th>\n",
       "      <th>imdb_votes</th>\n",
       "    </tr>\n",
       "  </thead>\n",
       "  <tbody>\n",
       "    <tr>\n",
       "      <th>count</th>\n",
       "      <td>2.682000e+04</td>\n",
       "      <td>26820.000000</td>\n",
       "      <td>26820.000000</td>\n",
       "      <td>2.682000e+04</td>\n",
       "      <td>26820.000000</td>\n",
       "      <td>2.682000e+04</td>\n",
       "      <td>26820.000000</td>\n",
       "      <td>26820.000000</td>\n",
       "      <td>2.682000e+04</td>\n",
       "    </tr>\n",
       "    <tr>\n",
       "      <th>mean</th>\n",
       "      <td>2.209563e+05</td>\n",
       "      <td>5.871432</td>\n",
       "      <td>662.912975</td>\n",
       "      <td>2.309283e+07</td>\n",
       "      <td>100.659135</td>\n",
       "      <td>8.621847e+06</td>\n",
       "      <td>6.436539</td>\n",
       "      <td>6.037591</td>\n",
       "      <td>3.522963e+04</td>\n",
       "    </tr>\n",
       "    <tr>\n",
       "      <th>std</th>\n",
       "      <td>2.915216e+05</td>\n",
       "      <td>1.380183</td>\n",
       "      <td>2053.721856</td>\n",
       "      <td>9.633021e+07</td>\n",
       "      <td>22.930249</td>\n",
       "      <td>2.583515e+07</td>\n",
       "      <td>9.119699</td>\n",
       "      <td>1.141163</td>\n",
       "      <td>1.169144e+05</td>\n",
       "    </tr>\n",
       "    <tr>\n",
       "      <th>min</th>\n",
       "      <td>5.000000e+00</td>\n",
       "      <td>0.000000</td>\n",
       "      <td>0.000000</td>\n",
       "      <td>0.000000e+00</td>\n",
       "      <td>0.000000</td>\n",
       "      <td>0.000000e+00</td>\n",
       "      <td>0.000000</td>\n",
       "      <td>1.300000</td>\n",
       "      <td>5.000000e+00</td>\n",
       "    </tr>\n",
       "    <tr>\n",
       "      <th>25%</th>\n",
       "      <td>2.556150e+04</td>\n",
       "      <td>5.300000</td>\n",
       "      <td>15.000000</td>\n",
       "      <td>0.000000e+00</td>\n",
       "      <td>89.000000</td>\n",
       "      <td>0.000000e+00</td>\n",
       "      <td>2.331750</td>\n",
       "      <td>5.400000</td>\n",
       "      <td>7.630000e+02</td>\n",
       "    </tr>\n",
       "    <tr>\n",
       "      <th>50%</th>\n",
       "      <td>7.724200e+04</td>\n",
       "      <td>6.100000</td>\n",
       "      <td>62.000000</td>\n",
       "      <td>0.000000e+00</td>\n",
       "      <td>97.000000</td>\n",
       "      <td>0.000000e+00</td>\n",
       "      <td>3.967000</td>\n",
       "      <td>6.200000</td>\n",
       "      <td>3.259500e+03</td>\n",
       "    </tr>\n",
       "    <tr>\n",
       "      <th>75%</th>\n",
       "      <td>3.290055e+05</td>\n",
       "      <td>6.700000</td>\n",
       "      <td>338.250000</td>\n",
       "      <td>3.603762e+06</td>\n",
       "      <td>110.000000</td>\n",
       "      <td>3.500000e+06</td>\n",
       "      <td>7.985500</td>\n",
       "      <td>6.800000</td>\n",
       "      <td>1.765400e+04</td>\n",
       "    </tr>\n",
       "    <tr>\n",
       "      <th>max</th>\n",
       "      <td>1.440153e+06</td>\n",
       "      <td>10.000000</td>\n",
       "      <td>37198.000000</td>\n",
       "      <td>2.923706e+09</td>\n",
       "      <td>803.000000</td>\n",
       "      <td>4.600000e+08</td>\n",
       "      <td>459.580500</td>\n",
       "      <td>9.800000</td>\n",
       "      <td>3.023533e+06</td>\n",
       "    </tr>\n",
       "  </tbody>\n",
       "</table>\n",
       "</div>"
      ],
      "text/plain": [
       "                 id  vote_average    vote_count       revenue       runtime  \\\n",
       "count  2.682000e+04  26820.000000  26820.000000  2.682000e+04  26820.000000   \n",
       "mean   2.209563e+05      5.871432    662.912975  2.309283e+07    100.659135   \n",
       "std    2.915216e+05      1.380183   2053.721856  9.633021e+07     22.930249   \n",
       "min    5.000000e+00      0.000000      0.000000  0.000000e+00      0.000000   \n",
       "25%    2.556150e+04      5.300000     15.000000  0.000000e+00     89.000000   \n",
       "50%    7.724200e+04      6.100000     62.000000  0.000000e+00     97.000000   \n",
       "75%    3.290055e+05      6.700000    338.250000  3.603762e+06    110.000000   \n",
       "max    1.440153e+06     10.000000  37198.000000  2.923706e+09    803.000000   \n",
       "\n",
       "             budget    popularity   imdb_rating    imdb_votes  \n",
       "count  2.682000e+04  26820.000000  26820.000000  2.682000e+04  \n",
       "mean   8.621847e+06      6.436539      6.037591  3.522963e+04  \n",
       "std    2.583515e+07      9.119699      1.141163  1.169144e+05  \n",
       "min    0.000000e+00      0.000000      1.300000  5.000000e+00  \n",
       "25%    0.000000e+00      2.331750      5.400000  7.630000e+02  \n",
       "50%    0.000000e+00      3.967000      6.200000  3.259500e+03  \n",
       "75%    3.500000e+06      7.985500      6.800000  1.765400e+04  \n",
       "max    4.600000e+08    459.580500      9.800000  3.023533e+06  "
      ]
     },
     "execution_count": 30,
     "metadata": {},
     "output_type": "execute_result"
    }
   ],
   "source": [
    "df.describe()"
   ]
  },
  {
   "cell_type": "code",
   "execution_count": 19,
   "metadata": {},
   "outputs": [
    {
     "data": {
      "text/html": [
       "<div>\n",
       "<style scoped>\n",
       "    .dataframe tbody tr th:only-of-type {\n",
       "        vertical-align: middle;\n",
       "    }\n",
       "\n",
       "    .dataframe tbody tr th {\n",
       "        vertical-align: top;\n",
       "    }\n",
       "\n",
       "    .dataframe thead th {\n",
       "        text-align: right;\n",
       "    }\n",
       "</style>\n",
       "<table border=\"1\" class=\"dataframe\">\n",
       "  <thead>\n",
       "    <tr style=\"text-align: right;\">\n",
       "      <th></th>\n",
       "      <th>id</th>\n",
       "      <th>title</th>\n",
       "      <th>vote_average</th>\n",
       "      <th>vote_count</th>\n",
       "      <th>status</th>\n",
       "      <th>release_date</th>\n",
       "      <th>revenue</th>\n",
       "      <th>runtime</th>\n",
       "      <th>budget</th>\n",
       "      <th>imdb_id</th>\n",
       "      <th>...</th>\n",
       "      <th>spoken_languages</th>\n",
       "      <th>cast</th>\n",
       "      <th>director</th>\n",
       "      <th>director_of_photography</th>\n",
       "      <th>writers</th>\n",
       "      <th>producers</th>\n",
       "      <th>music_composer</th>\n",
       "      <th>imdb_rating</th>\n",
       "      <th>imdb_votes</th>\n",
       "      <th>poster_path</th>\n",
       "    </tr>\n",
       "  </thead>\n",
       "  <tbody>\n",
       "    <tr>\n",
       "      <th>2</th>\n",
       "      <td>5</td>\n",
       "      <td>Four Rooms</td>\n",
       "      <td>5.9</td>\n",
       "      <td>2681.0</td>\n",
       "      <td>Released</td>\n",
       "      <td>1995-12-09</td>\n",
       "      <td>4257354.0</td>\n",
       "      <td>98.0</td>\n",
       "      <td>4000000.0</td>\n",
       "      <td>tt0113101</td>\n",
       "      <td>...</td>\n",
       "      <td>English</td>\n",
       "      <td>Antonio Banderas, Sammi Davis, Kimberly Blair,...</td>\n",
       "      <td>Allison Anders, Quentin Tarantino, Robert Rodr...</td>\n",
       "      <td>Andrzej Sekula, Phil Parmet, Guillermo Navarro...</td>\n",
       "      <td>Allison Anders, Quentin Tarantino, Robert Rodr...</td>\n",
       "      <td>Alexandre Rockwell, Lawrence Bender, Quentin T...</td>\n",
       "      <td>Combustible Edison</td>\n",
       "      <td>6.7</td>\n",
       "      <td>113781.0</td>\n",
       "      <td>/pyCk5JgtRZwRxnXwfrvyzukaKue.jpg</td>\n",
       "    </tr>\n",
       "  </tbody>\n",
       "</table>\n",
       "<p>1 rows × 28 columns</p>\n",
       "</div>"
      ],
      "text/plain": [
       "   id       title  vote_average  vote_count    status release_date    revenue  \\\n",
       "2   5  Four Rooms           5.9      2681.0  Released   1995-12-09  4257354.0   \n",
       "\n",
       "   runtime     budget    imdb_id  ... spoken_languages  \\\n",
       "2     98.0  4000000.0  tt0113101  ...          English   \n",
       "\n",
       "                                                cast  \\\n",
       "2  Antonio Banderas, Sammi Davis, Kimberly Blair,...   \n",
       "\n",
       "                                            director  \\\n",
       "2  Allison Anders, Quentin Tarantino, Robert Rodr...   \n",
       "\n",
       "                             director_of_photography  \\\n",
       "2  Andrzej Sekula, Phil Parmet, Guillermo Navarro...   \n",
       "\n",
       "                                             writers  \\\n",
       "2  Allison Anders, Quentin Tarantino, Robert Rodr...   \n",
       "\n",
       "                                           producers      music_composer  \\\n",
       "2  Alexandre Rockwell, Lawrence Bender, Quentin T...  Combustible Edison   \n",
       "\n",
       "  imdb_rating imdb_votes                       poster_path  \n",
       "2         6.7   113781.0  /pyCk5JgtRZwRxnXwfrvyzukaKue.jpg  \n",
       "\n",
       "[1 rows x 28 columns]"
      ]
     },
     "execution_count": 19,
     "metadata": {},
     "output_type": "execute_result"
    }
   ],
   "source": [
    "df.head(1)"
   ]
  },
  {
   "cell_type": "markdown",
   "metadata": {},
   "source": [
    "# REMOVING UNWANTED COLUMNS"
   ]
  },
  {
   "cell_type": "code",
   "execution_count": 20,
   "metadata": {},
   "outputs": [
    {
     "data": {
      "text/plain": [
       "Index(['id', 'title', 'vote_average', 'vote_count', 'status', 'release_date',\n",
       "       'revenue', 'runtime', 'budget', 'imdb_id', 'original_language',\n",
       "       'original_title', 'overview', 'popularity', 'tagline', 'genres',\n",
       "       'production_companies', 'production_countries', 'spoken_languages',\n",
       "       'cast', 'director', 'director_of_photography', 'writers', 'producers',\n",
       "       'music_composer', 'imdb_rating', 'imdb_votes', 'poster_path'],\n",
       "      dtype='object')"
      ]
     },
     "execution_count": 20,
     "metadata": {},
     "output_type": "execute_result"
    }
   ],
   "source": [
    "df.columns"
   ]
  },
  {
   "cell_type": "code",
   "execution_count": 21,
   "metadata": {},
   "outputs": [
    {
     "data": {
      "text/plain": [
       "original_language\n",
       "en    21007\n",
       "it      716\n",
       "ja      621\n",
       "fr      595\n",
       "ko      553\n",
       "      ...  \n",
       "su        1\n",
       "dz        1\n",
       "or        1\n",
       "ga        1\n",
       "be        1\n",
       "Name: count, Length: 80, dtype: int64"
      ]
     },
     "execution_count": 21,
     "metadata": {},
     "output_type": "execute_result"
    }
   ],
   "source": [
    "df[\"original_language\"].value_counts()"
   ]
  },
  {
   "cell_type": "code",
   "execution_count": 22,
   "metadata": {},
   "outputs": [
    {
     "data": {
      "text/plain": [
       "78.32587621178226"
      ]
     },
     "execution_count": 22,
     "metadata": {},
     "output_type": "execute_result"
    }
   ],
   "source": [
    "(len(df[df[\"original_language\"]==\"en\"]))/len(df)*100"
   ]
  },
  {
   "cell_type": "code",
   "execution_count": 23,
   "metadata": {},
   "outputs": [
    {
     "data": {
      "text/plain": [
       "2                                   Comedy, Crime\n",
       "3                         Action, Crime, Thriller\n",
       "6              Adventure, Action, Science Fiction\n",
       "7                               Animation, Family\n",
       "8                          Comedy, Drama, Romance\n",
       "                            ...                  \n",
       "1041219                                    Horror\n",
       "1049001                           Romance, Comedy\n",
       "1051552    Science Fiction, Action, Thriller, War\n",
       "1060661                                     Drama\n",
       "1060933                                     Drama\n",
       "Name: genres, Length: 26820, dtype: object"
      ]
     },
     "execution_count": 23,
     "metadata": {},
     "output_type": "execute_result"
    }
   ],
   "source": [
    "df[\"genres\"]"
   ]
  },
  {
   "cell_type": "code",
   "execution_count": 24,
   "metadata": {},
   "outputs": [],
   "source": [
    "# in original language en is more than 75 %  \n",
    "# as in recommendation task we dont want unusable numeric column so we can remove it\n",
    "# in original_title title can be non english so that we remove it and use title column for english title in whole dataset."
   ]
  },
  {
   "cell_type": "code",
   "execution_count": null,
   "metadata": {},
   "outputs": [],
   "source": [
    "# important columns \n",
    "# - id (will use to retrive specific metadata)\n",
    "# - title (will use to get the title of movie)\n",
    "# - overview ( use for content based recommendation system )\n",
    "# - cast ( use for content based recommendation system )\n",
    "# - director ( use for content based recommendation system )\n",
    "# - generes  ( use for content based recommendation system )"
   ]
  },
  {
   "cell_type": "code",
   "execution_count": 26,
   "metadata": {},
   "outputs": [],
   "source": [
    "updated_df=df[[\"id\",\"title\",\"overview\",\"cast\",\"director\",\"genres\"]]"
   ]
  },
  {
   "cell_type": "code",
   "execution_count": 27,
   "metadata": {},
   "outputs": [
    {
     "data": {
      "text/html": [
       "<div>\n",
       "<style scoped>\n",
       "    .dataframe tbody tr th:only-of-type {\n",
       "        vertical-align: middle;\n",
       "    }\n",
       "\n",
       "    .dataframe tbody tr th {\n",
       "        vertical-align: top;\n",
       "    }\n",
       "\n",
       "    .dataframe thead th {\n",
       "        text-align: right;\n",
       "    }\n",
       "</style>\n",
       "<table border=\"1\" class=\"dataframe\">\n",
       "  <thead>\n",
       "    <tr style=\"text-align: right;\">\n",
       "      <th></th>\n",
       "      <th>id</th>\n",
       "      <th>title</th>\n",
       "      <th>overview</th>\n",
       "      <th>cast</th>\n",
       "      <th>director</th>\n",
       "      <th>genres</th>\n",
       "    </tr>\n",
       "  </thead>\n",
       "  <tbody>\n",
       "    <tr>\n",
       "      <th>2</th>\n",
       "      <td>5</td>\n",
       "      <td>Four Rooms</td>\n",
       "      <td>It's Ted the Bellhop's first night on the job....</td>\n",
       "      <td>Antonio Banderas, Sammi Davis, Kimberly Blair,...</td>\n",
       "      <td>Allison Anders, Quentin Tarantino, Robert Rodr...</td>\n",
       "      <td>Comedy, Crime</td>\n",
       "    </tr>\n",
       "    <tr>\n",
       "      <th>3</th>\n",
       "      <td>6</td>\n",
       "      <td>Judgment Night</td>\n",
       "      <td>Four young friends, while taking a shortcut en...</td>\n",
       "      <td>Stephen Dorff, Everlast, Will Zahrn, Emilio Es...</td>\n",
       "      <td>Stephen Hopkins</td>\n",
       "      <td>Action, Crime, Thriller</td>\n",
       "    </tr>\n",
       "    <tr>\n",
       "      <th>6</th>\n",
       "      <td>11</td>\n",
       "      <td>Star Wars</td>\n",
       "      <td>Princess Leia is captured and held hostage by ...</td>\n",
       "      <td>David Ankrum, Mark Hamill, Tim Condren, Frank ...</td>\n",
       "      <td>George Lucas</td>\n",
       "      <td>Adventure, Action, Science Fiction</td>\n",
       "    </tr>\n",
       "    <tr>\n",
       "      <th>7</th>\n",
       "      <td>12</td>\n",
       "      <td>Finding Nemo</td>\n",
       "      <td>Nemo, an adventurous young clownfish, is unexp...</td>\n",
       "      <td>Jeff Pidgeon, Kali Whitehurst, Danny Mann, Lar...</td>\n",
       "      <td>Andrew Stanton</td>\n",
       "      <td>Animation, Family</td>\n",
       "    </tr>\n",
       "    <tr>\n",
       "      <th>8</th>\n",
       "      <td>13</td>\n",
       "      <td>Forrest Gump</td>\n",
       "      <td>A man with a low IQ has accomplished great thi...</td>\n",
       "      <td>Zach Hanner, Conor Kennelly, Elvis Presley, Ru...</td>\n",
       "      <td>Robert Zemeckis</td>\n",
       "      <td>Comedy, Drama, Romance</td>\n",
       "    </tr>\n",
       "    <tr>\n",
       "      <th>...</th>\n",
       "      <td>...</td>\n",
       "      <td>...</td>\n",
       "      <td>...</td>\n",
       "      <td>...</td>\n",
       "      <td>...</td>\n",
       "      <td>...</td>\n",
       "    </tr>\n",
       "    <tr>\n",
       "      <th>1041219</th>\n",
       "      <td>1416131</td>\n",
       "      <td>Steps</td>\n",
       "      <td>When Molly moves into a new house, she soon di...</td>\n",
       "      <td>Mori Christian, Kris J. Cummins</td>\n",
       "      <td>Russell Miller</td>\n",
       "      <td>Horror</td>\n",
       "    </tr>\n",
       "    <tr>\n",
       "      <th>1049001</th>\n",
       "      <td>1426142</td>\n",
       "      <td>Sosyal Climbers</td>\n",
       "      <td>Stuck with a massive debt after falling for a ...</td>\n",
       "      <td>Jan Silverio, Maris Racal, Gemma Masas, Bart G...</td>\n",
       "      <td>Jason Paul Laxamana</td>\n",
       "      <td>Romance, Comedy</td>\n",
       "    </tr>\n",
       "    <tr>\n",
       "      <th>1051552</th>\n",
       "      <td>1429172</td>\n",
       "      <td>Halo4ForwardUntoDawn</td>\n",
       "      <td>Set against the backdrop of a United Nations S...</td>\n",
       "      <td>Tony Giroux, Daniel Cudmore, Sean Carey, Darre...</td>\n",
       "      <td>Stewart Hendler</td>\n",
       "      <td>Science Fiction, Action, Thriller, War</td>\n",
       "    </tr>\n",
       "    <tr>\n",
       "      <th>1060661</th>\n",
       "      <td>1439845</td>\n",
       "      <td>L'amore che vorrei</td>\n",
       "      <td>Five women are victims of various forms of vio...</td>\n",
       "      <td>Michelle Hunziker, Claudia Potenza, Michela An...</td>\n",
       "      <td>Gabriele Pignotta</td>\n",
       "      <td>Drama</td>\n",
       "    </tr>\n",
       "    <tr>\n",
       "      <th>1060933</th>\n",
       "      <td>1440153</td>\n",
       "      <td>The Arrival</td>\n",
       "      <td>Four strangers converge at a restaurant to inv...</td>\n",
       "      <td>Nikolas Elrifi, Ines Ladha, Alice Heber Martin...</td>\n",
       "      <td>Alyssa Rallo Bennett</td>\n",
       "      <td>Drama</td>\n",
       "    </tr>\n",
       "  </tbody>\n",
       "</table>\n",
       "<p>26820 rows × 6 columns</p>\n",
       "</div>"
      ],
      "text/plain": [
       "              id                 title  \\\n",
       "2              5            Four Rooms   \n",
       "3              6        Judgment Night   \n",
       "6             11             Star Wars   \n",
       "7             12          Finding Nemo   \n",
       "8             13          Forrest Gump   \n",
       "...          ...                   ...   \n",
       "1041219  1416131                 Steps   \n",
       "1049001  1426142       Sosyal Climbers   \n",
       "1051552  1429172  Halo4ForwardUntoDawn   \n",
       "1060661  1439845    L'amore che vorrei   \n",
       "1060933  1440153           The Arrival   \n",
       "\n",
       "                                                  overview  \\\n",
       "2        It's Ted the Bellhop's first night on the job....   \n",
       "3        Four young friends, while taking a shortcut en...   \n",
       "6        Princess Leia is captured and held hostage by ...   \n",
       "7        Nemo, an adventurous young clownfish, is unexp...   \n",
       "8        A man with a low IQ has accomplished great thi...   \n",
       "...                                                    ...   \n",
       "1041219  When Molly moves into a new house, she soon di...   \n",
       "1049001  Stuck with a massive debt after falling for a ...   \n",
       "1051552  Set against the backdrop of a United Nations S...   \n",
       "1060661  Five women are victims of various forms of vio...   \n",
       "1060933  Four strangers converge at a restaurant to inv...   \n",
       "\n",
       "                                                      cast  \\\n",
       "2        Antonio Banderas, Sammi Davis, Kimberly Blair,...   \n",
       "3        Stephen Dorff, Everlast, Will Zahrn, Emilio Es...   \n",
       "6        David Ankrum, Mark Hamill, Tim Condren, Frank ...   \n",
       "7        Jeff Pidgeon, Kali Whitehurst, Danny Mann, Lar...   \n",
       "8        Zach Hanner, Conor Kennelly, Elvis Presley, Ru...   \n",
       "...                                                    ...   \n",
       "1041219                    Mori Christian, Kris J. Cummins   \n",
       "1049001  Jan Silverio, Maris Racal, Gemma Masas, Bart G...   \n",
       "1051552  Tony Giroux, Daniel Cudmore, Sean Carey, Darre...   \n",
       "1060661  Michelle Hunziker, Claudia Potenza, Michela An...   \n",
       "1060933  Nikolas Elrifi, Ines Ladha, Alice Heber Martin...   \n",
       "\n",
       "                                                  director  \\\n",
       "2        Allison Anders, Quentin Tarantino, Robert Rodr...   \n",
       "3                                          Stephen Hopkins   \n",
       "6                                             George Lucas   \n",
       "7                                           Andrew Stanton   \n",
       "8                                          Robert Zemeckis   \n",
       "...                                                    ...   \n",
       "1041219                                     Russell Miller   \n",
       "1049001                                Jason Paul Laxamana   \n",
       "1051552                                    Stewart Hendler   \n",
       "1060661                                  Gabriele Pignotta   \n",
       "1060933                               Alyssa Rallo Bennett   \n",
       "\n",
       "                                         genres  \n",
       "2                                 Comedy, Crime  \n",
       "3                       Action, Crime, Thriller  \n",
       "6            Adventure, Action, Science Fiction  \n",
       "7                             Animation, Family  \n",
       "8                        Comedy, Drama, Romance  \n",
       "...                                         ...  \n",
       "1041219                                  Horror  \n",
       "1049001                         Romance, Comedy  \n",
       "1051552  Science Fiction, Action, Thriller, War  \n",
       "1060661                                   Drama  \n",
       "1060933                                   Drama  \n",
       "\n",
       "[26820 rows x 6 columns]"
      ]
     },
     "execution_count": 27,
     "metadata": {},
     "output_type": "execute_result"
    }
   ],
   "source": [
    "updated_df"
   ]
  },
  {
   "cell_type": "markdown",
   "metadata": {},
   "source": [
    "# FIX SOME FORMATS AND MAKE DATA SUITABLE FOR VECTORIZATION "
   ]
  },
  {
   "cell_type": "code",
   "execution_count": 28,
   "metadata": {},
   "outputs": [],
   "source": [
    "# 1. take top 3 cast from cast column\n",
    "# 2. take top 1 director from director column \n",
    "# 3. remove space between cast name and director name  \n",
    "#   - so that when we make tags for recommendation we wont have confusion \n",
    "# 4. take all generes and put it into list \n",
    "# 5. merge overview , cast, director and make 1 single column named tags."
   ]
  },
  {
   "cell_type": "code",
   "execution_count": 29,
   "metadata": {},
   "outputs": [],
   "source": [
    "updated_df[\"cast\"]=updated_df[\"cast\"].apply(lambda x :   x.split(\",\")[:3])"
   ]
  },
  {
   "cell_type": "code",
   "execution_count": 30,
   "metadata": {},
   "outputs": [],
   "source": [
    "updated_df[\"director\"]=updated_df[\"director\"].apply(lambda x :   x.split(\",\")[:1])"
   ]
  },
  {
   "cell_type": "code",
   "execution_count": 31,
   "metadata": {},
   "outputs": [
    {
     "data": {
      "text/html": [
       "<div>\n",
       "<style scoped>\n",
       "    .dataframe tbody tr th:only-of-type {\n",
       "        vertical-align: middle;\n",
       "    }\n",
       "\n",
       "    .dataframe tbody tr th {\n",
       "        vertical-align: top;\n",
       "    }\n",
       "\n",
       "    .dataframe thead th {\n",
       "        text-align: right;\n",
       "    }\n",
       "</style>\n",
       "<table border=\"1\" class=\"dataframe\">\n",
       "  <thead>\n",
       "    <tr style=\"text-align: right;\">\n",
       "      <th></th>\n",
       "      <th>id</th>\n",
       "      <th>title</th>\n",
       "      <th>overview</th>\n",
       "      <th>cast</th>\n",
       "      <th>director</th>\n",
       "      <th>genres</th>\n",
       "    </tr>\n",
       "  </thead>\n",
       "  <tbody>\n",
       "    <tr>\n",
       "      <th>2</th>\n",
       "      <td>5</td>\n",
       "      <td>Four Rooms</td>\n",
       "      <td>It's Ted the Bellhop's first night on the job....</td>\n",
       "      <td>[Antonio Banderas,  Sammi Davis,  Kimberly Blair]</td>\n",
       "      <td>[Allison Anders]</td>\n",
       "      <td>Comedy, Crime</td>\n",
       "    </tr>\n",
       "    <tr>\n",
       "      <th>3</th>\n",
       "      <td>6</td>\n",
       "      <td>Judgment Night</td>\n",
       "      <td>Four young friends, while taking a shortcut en...</td>\n",
       "      <td>[Stephen Dorff,  Everlast,  Will Zahrn]</td>\n",
       "      <td>[Stephen Hopkins]</td>\n",
       "      <td>Action, Crime, Thriller</td>\n",
       "    </tr>\n",
       "    <tr>\n",
       "      <th>6</th>\n",
       "      <td>11</td>\n",
       "      <td>Star Wars</td>\n",
       "      <td>Princess Leia is captured and held hostage by ...</td>\n",
       "      <td>[David Ankrum,  Mark Hamill,  Tim Condren]</td>\n",
       "      <td>[George Lucas]</td>\n",
       "      <td>Adventure, Action, Science Fiction</td>\n",
       "    </tr>\n",
       "    <tr>\n",
       "      <th>7</th>\n",
       "      <td>12</td>\n",
       "      <td>Finding Nemo</td>\n",
       "      <td>Nemo, an adventurous young clownfish, is unexp...</td>\n",
       "      <td>[Jeff Pidgeon,  Kali Whitehurst,  Danny Mann]</td>\n",
       "      <td>[Andrew Stanton]</td>\n",
       "      <td>Animation, Family</td>\n",
       "    </tr>\n",
       "    <tr>\n",
       "      <th>8</th>\n",
       "      <td>13</td>\n",
       "      <td>Forrest Gump</td>\n",
       "      <td>A man with a low IQ has accomplished great thi...</td>\n",
       "      <td>[Zach Hanner,  Conor Kennelly,  Elvis Presley]</td>\n",
       "      <td>[Robert Zemeckis]</td>\n",
       "      <td>Comedy, Drama, Romance</td>\n",
       "    </tr>\n",
       "  </tbody>\n",
       "</table>\n",
       "</div>"
      ],
      "text/plain": [
       "   id           title                                           overview  \\\n",
       "2   5      Four Rooms  It's Ted the Bellhop's first night on the job....   \n",
       "3   6  Judgment Night  Four young friends, while taking a shortcut en...   \n",
       "6  11       Star Wars  Princess Leia is captured and held hostage by ...   \n",
       "7  12    Finding Nemo  Nemo, an adventurous young clownfish, is unexp...   \n",
       "8  13    Forrest Gump  A man with a low IQ has accomplished great thi...   \n",
       "\n",
       "                                                cast           director  \\\n",
       "2  [Antonio Banderas,  Sammi Davis,  Kimberly Blair]   [Allison Anders]   \n",
       "3            [Stephen Dorff,  Everlast,  Will Zahrn]  [Stephen Hopkins]   \n",
       "6         [David Ankrum,  Mark Hamill,  Tim Condren]     [George Lucas]   \n",
       "7      [Jeff Pidgeon,  Kali Whitehurst,  Danny Mann]   [Andrew Stanton]   \n",
       "8     [Zach Hanner,  Conor Kennelly,  Elvis Presley]  [Robert Zemeckis]   \n",
       "\n",
       "                               genres  \n",
       "2                       Comedy, Crime  \n",
       "3             Action, Crime, Thriller  \n",
       "6  Adventure, Action, Science Fiction  \n",
       "7                   Animation, Family  \n",
       "8              Comedy, Drama, Romance  "
      ]
     },
     "execution_count": 31,
     "metadata": {},
     "output_type": "execute_result"
    }
   ],
   "source": [
    "updated_df.head()"
   ]
  },
  {
   "cell_type": "code",
   "execution_count": 32,
   "metadata": {},
   "outputs": [],
   "source": [
    "def remove_space(x):\n",
    "    return x.replace(\" \",\"\")"
   ]
  },
  {
   "cell_type": "code",
   "execution_count": 33,
   "metadata": {},
   "outputs": [],
   "source": [
    "updated_cast=[]\n",
    "for i,val in enumerate(updated_df[\"cast\"]) :\n",
    "    updated_cast.append([])\n",
    "    for j in val:\n",
    "        updated_cast[i].append(remove_space(j))"
   ]
  },
  {
   "cell_type": "code",
   "execution_count": 34,
   "metadata": {},
   "outputs": [],
   "source": [
    "updated_df[\"cast\"]=updated_cast"
   ]
  },
  {
   "cell_type": "code",
   "execution_count": 35,
   "metadata": {},
   "outputs": [
    {
     "data": {
      "text/html": [
       "<div>\n",
       "<style scoped>\n",
       "    .dataframe tbody tr th:only-of-type {\n",
       "        vertical-align: middle;\n",
       "    }\n",
       "\n",
       "    .dataframe tbody tr th {\n",
       "        vertical-align: top;\n",
       "    }\n",
       "\n",
       "    .dataframe thead th {\n",
       "        text-align: right;\n",
       "    }\n",
       "</style>\n",
       "<table border=\"1\" class=\"dataframe\">\n",
       "  <thead>\n",
       "    <tr style=\"text-align: right;\">\n",
       "      <th></th>\n",
       "      <th>id</th>\n",
       "      <th>title</th>\n",
       "      <th>overview</th>\n",
       "      <th>cast</th>\n",
       "      <th>director</th>\n",
       "      <th>genres</th>\n",
       "    </tr>\n",
       "  </thead>\n",
       "  <tbody>\n",
       "    <tr>\n",
       "      <th>2</th>\n",
       "      <td>5</td>\n",
       "      <td>Four Rooms</td>\n",
       "      <td>It's Ted the Bellhop's first night on the job....</td>\n",
       "      <td>[AntonioBanderas, SammiDavis, KimberlyBlair]</td>\n",
       "      <td>[Allison Anders]</td>\n",
       "      <td>Comedy, Crime</td>\n",
       "    </tr>\n",
       "    <tr>\n",
       "      <th>3</th>\n",
       "      <td>6</td>\n",
       "      <td>Judgment Night</td>\n",
       "      <td>Four young friends, while taking a shortcut en...</td>\n",
       "      <td>[StephenDorff, Everlast, WillZahrn]</td>\n",
       "      <td>[Stephen Hopkins]</td>\n",
       "      <td>Action, Crime, Thriller</td>\n",
       "    </tr>\n",
       "    <tr>\n",
       "      <th>6</th>\n",
       "      <td>11</td>\n",
       "      <td>Star Wars</td>\n",
       "      <td>Princess Leia is captured and held hostage by ...</td>\n",
       "      <td>[DavidAnkrum, MarkHamill, TimCondren]</td>\n",
       "      <td>[George Lucas]</td>\n",
       "      <td>Adventure, Action, Science Fiction</td>\n",
       "    </tr>\n",
       "    <tr>\n",
       "      <th>7</th>\n",
       "      <td>12</td>\n",
       "      <td>Finding Nemo</td>\n",
       "      <td>Nemo, an adventurous young clownfish, is unexp...</td>\n",
       "      <td>[JeffPidgeon, KaliWhitehurst, DannyMann]</td>\n",
       "      <td>[Andrew Stanton]</td>\n",
       "      <td>Animation, Family</td>\n",
       "    </tr>\n",
       "    <tr>\n",
       "      <th>8</th>\n",
       "      <td>13</td>\n",
       "      <td>Forrest Gump</td>\n",
       "      <td>A man with a low IQ has accomplished great thi...</td>\n",
       "      <td>[ZachHanner, ConorKennelly, ElvisPresley]</td>\n",
       "      <td>[Robert Zemeckis]</td>\n",
       "      <td>Comedy, Drama, Romance</td>\n",
       "    </tr>\n",
       "    <tr>\n",
       "      <th>...</th>\n",
       "      <td>...</td>\n",
       "      <td>...</td>\n",
       "      <td>...</td>\n",
       "      <td>...</td>\n",
       "      <td>...</td>\n",
       "      <td>...</td>\n",
       "    </tr>\n",
       "    <tr>\n",
       "      <th>1041219</th>\n",
       "      <td>1416131</td>\n",
       "      <td>Steps</td>\n",
       "      <td>When Molly moves into a new house, she soon di...</td>\n",
       "      <td>[MoriChristian, KrisJ.Cummins]</td>\n",
       "      <td>[Russell Miller]</td>\n",
       "      <td>Horror</td>\n",
       "    </tr>\n",
       "    <tr>\n",
       "      <th>1049001</th>\n",
       "      <td>1426142</td>\n",
       "      <td>Sosyal Climbers</td>\n",
       "      <td>Stuck with a massive debt after falling for a ...</td>\n",
       "      <td>[JanSilverio, MarisRacal, GemmaMasas]</td>\n",
       "      <td>[Jason Paul Laxamana]</td>\n",
       "      <td>Romance, Comedy</td>\n",
       "    </tr>\n",
       "    <tr>\n",
       "      <th>1051552</th>\n",
       "      <td>1429172</td>\n",
       "      <td>Halo4ForwardUntoDawn</td>\n",
       "      <td>Set against the backdrop of a United Nations S...</td>\n",
       "      <td>[TonyGiroux, DanielCudmore, SeanCarey]</td>\n",
       "      <td>[Stewart Hendler]</td>\n",
       "      <td>Science Fiction, Action, Thriller, War</td>\n",
       "    </tr>\n",
       "    <tr>\n",
       "      <th>1060661</th>\n",
       "      <td>1439845</td>\n",
       "      <td>L'amore che vorrei</td>\n",
       "      <td>Five women are victims of various forms of vio...</td>\n",
       "      <td>[MichelleHunziker, ClaudiaPotenza, MichelaAndr...</td>\n",
       "      <td>[Gabriele Pignotta]</td>\n",
       "      <td>Drama</td>\n",
       "    </tr>\n",
       "    <tr>\n",
       "      <th>1060933</th>\n",
       "      <td>1440153</td>\n",
       "      <td>The Arrival</td>\n",
       "      <td>Four strangers converge at a restaurant to inv...</td>\n",
       "      <td>[NikolasElrifi, InesLadha, AliceHeberMartins]</td>\n",
       "      <td>[Alyssa Rallo Bennett]</td>\n",
       "      <td>Drama</td>\n",
       "    </tr>\n",
       "  </tbody>\n",
       "</table>\n",
       "<p>26820 rows × 6 columns</p>\n",
       "</div>"
      ],
      "text/plain": [
       "              id                 title  \\\n",
       "2              5            Four Rooms   \n",
       "3              6        Judgment Night   \n",
       "6             11             Star Wars   \n",
       "7             12          Finding Nemo   \n",
       "8             13          Forrest Gump   \n",
       "...          ...                   ...   \n",
       "1041219  1416131                 Steps   \n",
       "1049001  1426142       Sosyal Climbers   \n",
       "1051552  1429172  Halo4ForwardUntoDawn   \n",
       "1060661  1439845    L'amore che vorrei   \n",
       "1060933  1440153           The Arrival   \n",
       "\n",
       "                                                  overview  \\\n",
       "2        It's Ted the Bellhop's first night on the job....   \n",
       "3        Four young friends, while taking a shortcut en...   \n",
       "6        Princess Leia is captured and held hostage by ...   \n",
       "7        Nemo, an adventurous young clownfish, is unexp...   \n",
       "8        A man with a low IQ has accomplished great thi...   \n",
       "...                                                    ...   \n",
       "1041219  When Molly moves into a new house, she soon di...   \n",
       "1049001  Stuck with a massive debt after falling for a ...   \n",
       "1051552  Set against the backdrop of a United Nations S...   \n",
       "1060661  Five women are victims of various forms of vio...   \n",
       "1060933  Four strangers converge at a restaurant to inv...   \n",
       "\n",
       "                                                      cast  \\\n",
       "2             [AntonioBanderas, SammiDavis, KimberlyBlair]   \n",
       "3                      [StephenDorff, Everlast, WillZahrn]   \n",
       "6                    [DavidAnkrum, MarkHamill, TimCondren]   \n",
       "7                 [JeffPidgeon, KaliWhitehurst, DannyMann]   \n",
       "8                [ZachHanner, ConorKennelly, ElvisPresley]   \n",
       "...                                                    ...   \n",
       "1041219                     [MoriChristian, KrisJ.Cummins]   \n",
       "1049001              [JanSilverio, MarisRacal, GemmaMasas]   \n",
       "1051552             [TonyGiroux, DanielCudmore, SeanCarey]   \n",
       "1060661  [MichelleHunziker, ClaudiaPotenza, MichelaAndr...   \n",
       "1060933      [NikolasElrifi, InesLadha, AliceHeberMartins]   \n",
       "\n",
       "                       director                                  genres  \n",
       "2              [Allison Anders]                           Comedy, Crime  \n",
       "3             [Stephen Hopkins]                 Action, Crime, Thriller  \n",
       "6                [George Lucas]      Adventure, Action, Science Fiction  \n",
       "7              [Andrew Stanton]                       Animation, Family  \n",
       "8             [Robert Zemeckis]                  Comedy, Drama, Romance  \n",
       "...                         ...                                     ...  \n",
       "1041219        [Russell Miller]                                  Horror  \n",
       "1049001   [Jason Paul Laxamana]                         Romance, Comedy  \n",
       "1051552       [Stewart Hendler]  Science Fiction, Action, Thriller, War  \n",
       "1060661     [Gabriele Pignotta]                                   Drama  \n",
       "1060933  [Alyssa Rallo Bennett]                                   Drama  \n",
       "\n",
       "[26820 rows x 6 columns]"
      ]
     },
     "execution_count": 35,
     "metadata": {},
     "output_type": "execute_result"
    }
   ],
   "source": [
    "updated_df"
   ]
  },
  {
   "cell_type": "code",
   "execution_count": 36,
   "metadata": {},
   "outputs": [],
   "source": [
    "updated_director=[]\n",
    "for i,val in enumerate(updated_df[\"director\"]) :\n",
    "    updated_director.append([])\n",
    "    for j in val:\n",
    "        updated_director[i].append(remove_space(j))"
   ]
  },
  {
   "cell_type": "code",
   "execution_count": 37,
   "metadata": {},
   "outputs": [],
   "source": [
    "updated_df[\"director\"]=updated_director"
   ]
  },
  {
   "cell_type": "code",
   "execution_count": 38,
   "metadata": {},
   "outputs": [
    {
     "data": {
      "text/html": [
       "<div>\n",
       "<style scoped>\n",
       "    .dataframe tbody tr th:only-of-type {\n",
       "        vertical-align: middle;\n",
       "    }\n",
       "\n",
       "    .dataframe tbody tr th {\n",
       "        vertical-align: top;\n",
       "    }\n",
       "\n",
       "    .dataframe thead th {\n",
       "        text-align: right;\n",
       "    }\n",
       "</style>\n",
       "<table border=\"1\" class=\"dataframe\">\n",
       "  <thead>\n",
       "    <tr style=\"text-align: right;\">\n",
       "      <th></th>\n",
       "      <th>id</th>\n",
       "      <th>title</th>\n",
       "      <th>overview</th>\n",
       "      <th>cast</th>\n",
       "      <th>director</th>\n",
       "      <th>genres</th>\n",
       "    </tr>\n",
       "  </thead>\n",
       "  <tbody>\n",
       "    <tr>\n",
       "      <th>2</th>\n",
       "      <td>5</td>\n",
       "      <td>Four Rooms</td>\n",
       "      <td>It's Ted the Bellhop's first night on the job....</td>\n",
       "      <td>[AntonioBanderas, SammiDavis, KimberlyBlair]</td>\n",
       "      <td>[AllisonAnders]</td>\n",
       "      <td>Comedy, Crime</td>\n",
       "    </tr>\n",
       "    <tr>\n",
       "      <th>3</th>\n",
       "      <td>6</td>\n",
       "      <td>Judgment Night</td>\n",
       "      <td>Four young friends, while taking a shortcut en...</td>\n",
       "      <td>[StephenDorff, Everlast, WillZahrn]</td>\n",
       "      <td>[StephenHopkins]</td>\n",
       "      <td>Action, Crime, Thriller</td>\n",
       "    </tr>\n",
       "    <tr>\n",
       "      <th>6</th>\n",
       "      <td>11</td>\n",
       "      <td>Star Wars</td>\n",
       "      <td>Princess Leia is captured and held hostage by ...</td>\n",
       "      <td>[DavidAnkrum, MarkHamill, TimCondren]</td>\n",
       "      <td>[GeorgeLucas]</td>\n",
       "      <td>Adventure, Action, Science Fiction</td>\n",
       "    </tr>\n",
       "    <tr>\n",
       "      <th>7</th>\n",
       "      <td>12</td>\n",
       "      <td>Finding Nemo</td>\n",
       "      <td>Nemo, an adventurous young clownfish, is unexp...</td>\n",
       "      <td>[JeffPidgeon, KaliWhitehurst, DannyMann]</td>\n",
       "      <td>[AndrewStanton]</td>\n",
       "      <td>Animation, Family</td>\n",
       "    </tr>\n",
       "    <tr>\n",
       "      <th>8</th>\n",
       "      <td>13</td>\n",
       "      <td>Forrest Gump</td>\n",
       "      <td>A man with a low IQ has accomplished great thi...</td>\n",
       "      <td>[ZachHanner, ConorKennelly, ElvisPresley]</td>\n",
       "      <td>[RobertZemeckis]</td>\n",
       "      <td>Comedy, Drama, Romance</td>\n",
       "    </tr>\n",
       "    <tr>\n",
       "      <th>...</th>\n",
       "      <td>...</td>\n",
       "      <td>...</td>\n",
       "      <td>...</td>\n",
       "      <td>...</td>\n",
       "      <td>...</td>\n",
       "      <td>...</td>\n",
       "    </tr>\n",
       "    <tr>\n",
       "      <th>1041219</th>\n",
       "      <td>1416131</td>\n",
       "      <td>Steps</td>\n",
       "      <td>When Molly moves into a new house, she soon di...</td>\n",
       "      <td>[MoriChristian, KrisJ.Cummins]</td>\n",
       "      <td>[RussellMiller]</td>\n",
       "      <td>Horror</td>\n",
       "    </tr>\n",
       "    <tr>\n",
       "      <th>1049001</th>\n",
       "      <td>1426142</td>\n",
       "      <td>Sosyal Climbers</td>\n",
       "      <td>Stuck with a massive debt after falling for a ...</td>\n",
       "      <td>[JanSilverio, MarisRacal, GemmaMasas]</td>\n",
       "      <td>[JasonPaulLaxamana]</td>\n",
       "      <td>Romance, Comedy</td>\n",
       "    </tr>\n",
       "    <tr>\n",
       "      <th>1051552</th>\n",
       "      <td>1429172</td>\n",
       "      <td>Halo4ForwardUntoDawn</td>\n",
       "      <td>Set against the backdrop of a United Nations S...</td>\n",
       "      <td>[TonyGiroux, DanielCudmore, SeanCarey]</td>\n",
       "      <td>[StewartHendler]</td>\n",
       "      <td>Science Fiction, Action, Thriller, War</td>\n",
       "    </tr>\n",
       "    <tr>\n",
       "      <th>1060661</th>\n",
       "      <td>1439845</td>\n",
       "      <td>L'amore che vorrei</td>\n",
       "      <td>Five women are victims of various forms of vio...</td>\n",
       "      <td>[MichelleHunziker, ClaudiaPotenza, MichelaAndr...</td>\n",
       "      <td>[GabrielePignotta]</td>\n",
       "      <td>Drama</td>\n",
       "    </tr>\n",
       "    <tr>\n",
       "      <th>1060933</th>\n",
       "      <td>1440153</td>\n",
       "      <td>The Arrival</td>\n",
       "      <td>Four strangers converge at a restaurant to inv...</td>\n",
       "      <td>[NikolasElrifi, InesLadha, AliceHeberMartins]</td>\n",
       "      <td>[AlyssaRalloBennett]</td>\n",
       "      <td>Drama</td>\n",
       "    </tr>\n",
       "  </tbody>\n",
       "</table>\n",
       "<p>26820 rows × 6 columns</p>\n",
       "</div>"
      ],
      "text/plain": [
       "              id                 title  \\\n",
       "2              5            Four Rooms   \n",
       "3              6        Judgment Night   \n",
       "6             11             Star Wars   \n",
       "7             12          Finding Nemo   \n",
       "8             13          Forrest Gump   \n",
       "...          ...                   ...   \n",
       "1041219  1416131                 Steps   \n",
       "1049001  1426142       Sosyal Climbers   \n",
       "1051552  1429172  Halo4ForwardUntoDawn   \n",
       "1060661  1439845    L'amore che vorrei   \n",
       "1060933  1440153           The Arrival   \n",
       "\n",
       "                                                  overview  \\\n",
       "2        It's Ted the Bellhop's first night on the job....   \n",
       "3        Four young friends, while taking a shortcut en...   \n",
       "6        Princess Leia is captured and held hostage by ...   \n",
       "7        Nemo, an adventurous young clownfish, is unexp...   \n",
       "8        A man with a low IQ has accomplished great thi...   \n",
       "...                                                    ...   \n",
       "1041219  When Molly moves into a new house, she soon di...   \n",
       "1049001  Stuck with a massive debt after falling for a ...   \n",
       "1051552  Set against the backdrop of a United Nations S...   \n",
       "1060661  Five women are victims of various forms of vio...   \n",
       "1060933  Four strangers converge at a restaurant to inv...   \n",
       "\n",
       "                                                      cast  \\\n",
       "2             [AntonioBanderas, SammiDavis, KimberlyBlair]   \n",
       "3                      [StephenDorff, Everlast, WillZahrn]   \n",
       "6                    [DavidAnkrum, MarkHamill, TimCondren]   \n",
       "7                 [JeffPidgeon, KaliWhitehurst, DannyMann]   \n",
       "8                [ZachHanner, ConorKennelly, ElvisPresley]   \n",
       "...                                                    ...   \n",
       "1041219                     [MoriChristian, KrisJ.Cummins]   \n",
       "1049001              [JanSilverio, MarisRacal, GemmaMasas]   \n",
       "1051552             [TonyGiroux, DanielCudmore, SeanCarey]   \n",
       "1060661  [MichelleHunziker, ClaudiaPotenza, MichelaAndr...   \n",
       "1060933      [NikolasElrifi, InesLadha, AliceHeberMartins]   \n",
       "\n",
       "                     director                                  genres  \n",
       "2             [AllisonAnders]                           Comedy, Crime  \n",
       "3            [StephenHopkins]                 Action, Crime, Thriller  \n",
       "6               [GeorgeLucas]      Adventure, Action, Science Fiction  \n",
       "7             [AndrewStanton]                       Animation, Family  \n",
       "8            [RobertZemeckis]                  Comedy, Drama, Romance  \n",
       "...                       ...                                     ...  \n",
       "1041219       [RussellMiller]                                  Horror  \n",
       "1049001   [JasonPaulLaxamana]                         Romance, Comedy  \n",
       "1051552      [StewartHendler]  Science Fiction, Action, Thriller, War  \n",
       "1060661    [GabrielePignotta]                                   Drama  \n",
       "1060933  [AlyssaRalloBennett]                                   Drama  \n",
       "\n",
       "[26820 rows x 6 columns]"
      ]
     },
     "execution_count": 38,
     "metadata": {},
     "output_type": "execute_result"
    }
   ],
   "source": [
    "updated_df"
   ]
  },
  {
   "cell_type": "code",
   "execution_count": 39,
   "metadata": {},
   "outputs": [],
   "source": [
    "updated_df[\"genres\"]=updated_df[\"genres\"].apply(lambda x : x.split(\",\"))"
   ]
  },
  {
   "cell_type": "code",
   "execution_count": 40,
   "metadata": {},
   "outputs": [],
   "source": [
    "updated_df[\"overview\"]=updated_df[\"overview\"].apply(lambda x:x.split())"
   ]
  },
  {
   "cell_type": "code",
   "execution_count": 41,
   "metadata": {},
   "outputs": [
    {
     "data": {
      "text/html": [
       "<div>\n",
       "<style scoped>\n",
       "    .dataframe tbody tr th:only-of-type {\n",
       "        vertical-align: middle;\n",
       "    }\n",
       "\n",
       "    .dataframe tbody tr th {\n",
       "        vertical-align: top;\n",
       "    }\n",
       "\n",
       "    .dataframe thead th {\n",
       "        text-align: right;\n",
       "    }\n",
       "</style>\n",
       "<table border=\"1\" class=\"dataframe\">\n",
       "  <thead>\n",
       "    <tr style=\"text-align: right;\">\n",
       "      <th></th>\n",
       "      <th>id</th>\n",
       "      <th>title</th>\n",
       "      <th>overview</th>\n",
       "      <th>cast</th>\n",
       "      <th>director</th>\n",
       "      <th>genres</th>\n",
       "    </tr>\n",
       "  </thead>\n",
       "  <tbody>\n",
       "    <tr>\n",
       "      <th>2</th>\n",
       "      <td>5</td>\n",
       "      <td>Four Rooms</td>\n",
       "      <td>[It's, Ted, the, Bellhop's, first, night, on, ...</td>\n",
       "      <td>[AntonioBanderas, SammiDavis, KimberlyBlair]</td>\n",
       "      <td>[AllisonAnders]</td>\n",
       "      <td>[Comedy,  Crime]</td>\n",
       "    </tr>\n",
       "    <tr>\n",
       "      <th>3</th>\n",
       "      <td>6</td>\n",
       "      <td>Judgment Night</td>\n",
       "      <td>[Four, young, friends,, while, taking, a, shor...</td>\n",
       "      <td>[StephenDorff, Everlast, WillZahrn]</td>\n",
       "      <td>[StephenHopkins]</td>\n",
       "      <td>[Action,  Crime,  Thriller]</td>\n",
       "    </tr>\n",
       "    <tr>\n",
       "      <th>6</th>\n",
       "      <td>11</td>\n",
       "      <td>Star Wars</td>\n",
       "      <td>[Princess, Leia, is, captured, and, held, host...</td>\n",
       "      <td>[DavidAnkrum, MarkHamill, TimCondren]</td>\n",
       "      <td>[GeorgeLucas]</td>\n",
       "      <td>[Adventure,  Action,  Science Fiction]</td>\n",
       "    </tr>\n",
       "    <tr>\n",
       "      <th>7</th>\n",
       "      <td>12</td>\n",
       "      <td>Finding Nemo</td>\n",
       "      <td>[Nemo,, an, adventurous, young, clownfish,, is...</td>\n",
       "      <td>[JeffPidgeon, KaliWhitehurst, DannyMann]</td>\n",
       "      <td>[AndrewStanton]</td>\n",
       "      <td>[Animation,  Family]</td>\n",
       "    </tr>\n",
       "    <tr>\n",
       "      <th>8</th>\n",
       "      <td>13</td>\n",
       "      <td>Forrest Gump</td>\n",
       "      <td>[A, man, with, a, low, IQ, has, accomplished, ...</td>\n",
       "      <td>[ZachHanner, ConorKennelly, ElvisPresley]</td>\n",
       "      <td>[RobertZemeckis]</td>\n",
       "      <td>[Comedy,  Drama,  Romance]</td>\n",
       "    </tr>\n",
       "    <tr>\n",
       "      <th>...</th>\n",
       "      <td>...</td>\n",
       "      <td>...</td>\n",
       "      <td>...</td>\n",
       "      <td>...</td>\n",
       "      <td>...</td>\n",
       "      <td>...</td>\n",
       "    </tr>\n",
       "    <tr>\n",
       "      <th>1041219</th>\n",
       "      <td>1416131</td>\n",
       "      <td>Steps</td>\n",
       "      <td>[When, Molly, moves, into, a, new, house,, she...</td>\n",
       "      <td>[MoriChristian, KrisJ.Cummins]</td>\n",
       "      <td>[RussellMiller]</td>\n",
       "      <td>[Horror]</td>\n",
       "    </tr>\n",
       "    <tr>\n",
       "      <th>1049001</th>\n",
       "      <td>1426142</td>\n",
       "      <td>Sosyal Climbers</td>\n",
       "      <td>[Stuck, with, a, massive, debt, after, falling...</td>\n",
       "      <td>[JanSilverio, MarisRacal, GemmaMasas]</td>\n",
       "      <td>[JasonPaulLaxamana]</td>\n",
       "      <td>[Romance,  Comedy]</td>\n",
       "    </tr>\n",
       "    <tr>\n",
       "      <th>1051552</th>\n",
       "      <td>1429172</td>\n",
       "      <td>Halo4ForwardUntoDawn</td>\n",
       "      <td>[Set, against, the, backdrop, of, a, United, N...</td>\n",
       "      <td>[TonyGiroux, DanielCudmore, SeanCarey]</td>\n",
       "      <td>[StewartHendler]</td>\n",
       "      <td>[Science Fiction,  Action,  Thriller,  War]</td>\n",
       "    </tr>\n",
       "    <tr>\n",
       "      <th>1060661</th>\n",
       "      <td>1439845</td>\n",
       "      <td>L'amore che vorrei</td>\n",
       "      <td>[Five, women, are, victims, of, various, forms...</td>\n",
       "      <td>[MichelleHunziker, ClaudiaPotenza, MichelaAndr...</td>\n",
       "      <td>[GabrielePignotta]</td>\n",
       "      <td>[Drama]</td>\n",
       "    </tr>\n",
       "    <tr>\n",
       "      <th>1060933</th>\n",
       "      <td>1440153</td>\n",
       "      <td>The Arrival</td>\n",
       "      <td>[Four, strangers, converge, at, a, restaurant,...</td>\n",
       "      <td>[NikolasElrifi, InesLadha, AliceHeberMartins]</td>\n",
       "      <td>[AlyssaRalloBennett]</td>\n",
       "      <td>[Drama]</td>\n",
       "    </tr>\n",
       "  </tbody>\n",
       "</table>\n",
       "<p>26820 rows × 6 columns</p>\n",
       "</div>"
      ],
      "text/plain": [
       "              id                 title  \\\n",
       "2              5            Four Rooms   \n",
       "3              6        Judgment Night   \n",
       "6             11             Star Wars   \n",
       "7             12          Finding Nemo   \n",
       "8             13          Forrest Gump   \n",
       "...          ...                   ...   \n",
       "1041219  1416131                 Steps   \n",
       "1049001  1426142       Sosyal Climbers   \n",
       "1051552  1429172  Halo4ForwardUntoDawn   \n",
       "1060661  1439845    L'amore che vorrei   \n",
       "1060933  1440153           The Arrival   \n",
       "\n",
       "                                                  overview  \\\n",
       "2        [It's, Ted, the, Bellhop's, first, night, on, ...   \n",
       "3        [Four, young, friends,, while, taking, a, shor...   \n",
       "6        [Princess, Leia, is, captured, and, held, host...   \n",
       "7        [Nemo,, an, adventurous, young, clownfish,, is...   \n",
       "8        [A, man, with, a, low, IQ, has, accomplished, ...   \n",
       "...                                                    ...   \n",
       "1041219  [When, Molly, moves, into, a, new, house,, she...   \n",
       "1049001  [Stuck, with, a, massive, debt, after, falling...   \n",
       "1051552  [Set, against, the, backdrop, of, a, United, N...   \n",
       "1060661  [Five, women, are, victims, of, various, forms...   \n",
       "1060933  [Four, strangers, converge, at, a, restaurant,...   \n",
       "\n",
       "                                                      cast  \\\n",
       "2             [AntonioBanderas, SammiDavis, KimberlyBlair]   \n",
       "3                      [StephenDorff, Everlast, WillZahrn]   \n",
       "6                    [DavidAnkrum, MarkHamill, TimCondren]   \n",
       "7                 [JeffPidgeon, KaliWhitehurst, DannyMann]   \n",
       "8                [ZachHanner, ConorKennelly, ElvisPresley]   \n",
       "...                                                    ...   \n",
       "1041219                     [MoriChristian, KrisJ.Cummins]   \n",
       "1049001              [JanSilverio, MarisRacal, GemmaMasas]   \n",
       "1051552             [TonyGiroux, DanielCudmore, SeanCarey]   \n",
       "1060661  [MichelleHunziker, ClaudiaPotenza, MichelaAndr...   \n",
       "1060933      [NikolasElrifi, InesLadha, AliceHeberMartins]   \n",
       "\n",
       "                     director                                       genres  \n",
       "2             [AllisonAnders]                             [Comedy,  Crime]  \n",
       "3            [StephenHopkins]                  [Action,  Crime,  Thriller]  \n",
       "6               [GeorgeLucas]       [Adventure,  Action,  Science Fiction]  \n",
       "7             [AndrewStanton]                         [Animation,  Family]  \n",
       "8            [RobertZemeckis]                   [Comedy,  Drama,  Romance]  \n",
       "...                       ...                                          ...  \n",
       "1041219       [RussellMiller]                                     [Horror]  \n",
       "1049001   [JasonPaulLaxamana]                           [Romance,  Comedy]  \n",
       "1051552      [StewartHendler]  [Science Fiction,  Action,  Thriller,  War]  \n",
       "1060661    [GabrielePignotta]                                      [Drama]  \n",
       "1060933  [AlyssaRalloBennett]                                      [Drama]  \n",
       "\n",
       "[26820 rows x 6 columns]"
      ]
     },
     "execution_count": 41,
     "metadata": {},
     "output_type": "execute_result"
    }
   ],
   "source": [
    "updated_df"
   ]
  },
  {
   "cell_type": "code",
   "execution_count": 42,
   "metadata": {},
   "outputs": [],
   "source": [
    "updated_df[\"tags\"]=updated_df[\"overview\"]+updated_df[\"cast\"]+updated_df[\"director\"]+updated_df[\"genres\"]"
   ]
  },
  {
   "cell_type": "code",
   "execution_count": 43,
   "metadata": {},
   "outputs": [
    {
     "data": {
      "text/plain": [
       "[\"It's\",\n",
       " 'Ted',\n",
       " 'the',\n",
       " \"Bellhop's\",\n",
       " 'first',\n",
       " 'night',\n",
       " 'on',\n",
       " 'the',\n",
       " 'job...and',\n",
       " 'the',\n",
       " \"hotel's\",\n",
       " 'very',\n",
       " 'unusual',\n",
       " 'guests',\n",
       " 'are',\n",
       " 'about',\n",
       " 'to',\n",
       " 'place',\n",
       " 'him',\n",
       " 'in',\n",
       " 'some',\n",
       " 'outrageous',\n",
       " 'predicaments.',\n",
       " 'It',\n",
       " 'seems',\n",
       " 'that',\n",
       " 'this',\n",
       " \"evening's\",\n",
       " 'room',\n",
       " 'service',\n",
       " 'is',\n",
       " 'serving',\n",
       " 'up',\n",
       " 'one',\n",
       " 'unbelievable',\n",
       " 'happening',\n",
       " 'after',\n",
       " 'another.',\n",
       " 'AntonioBanderas',\n",
       " 'SammiDavis',\n",
       " 'KimberlyBlair',\n",
       " 'AllisonAnders',\n",
       " 'Comedy',\n",
       " ' Crime']"
      ]
     },
     "execution_count": 43,
     "metadata": {},
     "output_type": "execute_result"
    }
   ],
   "source": [
    "updated_df[\"tags\"].iloc[0]"
   ]
  },
  {
   "cell_type": "code",
   "execution_count": 44,
   "metadata": {},
   "outputs": [],
   "source": [
    "updated_df[\"tags\"]= updated_df[\"tags\"].apply(lambda x : \" \".join(x))"
   ]
  },
  {
   "cell_type": "code",
   "execution_count": 45,
   "metadata": {},
   "outputs": [
    {
     "data": {
      "text/html": [
       "<div>\n",
       "<style scoped>\n",
       "    .dataframe tbody tr th:only-of-type {\n",
       "        vertical-align: middle;\n",
       "    }\n",
       "\n",
       "    .dataframe tbody tr th {\n",
       "        vertical-align: top;\n",
       "    }\n",
       "\n",
       "    .dataframe thead th {\n",
       "        text-align: right;\n",
       "    }\n",
       "</style>\n",
       "<table border=\"1\" class=\"dataframe\">\n",
       "  <thead>\n",
       "    <tr style=\"text-align: right;\">\n",
       "      <th></th>\n",
       "      <th>id</th>\n",
       "      <th>title</th>\n",
       "      <th>overview</th>\n",
       "      <th>cast</th>\n",
       "      <th>director</th>\n",
       "      <th>genres</th>\n",
       "      <th>tags</th>\n",
       "    </tr>\n",
       "  </thead>\n",
       "  <tbody>\n",
       "    <tr>\n",
       "      <th>2</th>\n",
       "      <td>5</td>\n",
       "      <td>Four Rooms</td>\n",
       "      <td>[It's, Ted, the, Bellhop's, first, night, on, ...</td>\n",
       "      <td>[AntonioBanderas, SammiDavis, KimberlyBlair]</td>\n",
       "      <td>[AllisonAnders]</td>\n",
       "      <td>[Comedy,  Crime]</td>\n",
       "      <td>It's Ted the Bellhop's first night on the job....</td>\n",
       "    </tr>\n",
       "    <tr>\n",
       "      <th>3</th>\n",
       "      <td>6</td>\n",
       "      <td>Judgment Night</td>\n",
       "      <td>[Four, young, friends,, while, taking, a, shor...</td>\n",
       "      <td>[StephenDorff, Everlast, WillZahrn]</td>\n",
       "      <td>[StephenHopkins]</td>\n",
       "      <td>[Action,  Crime,  Thriller]</td>\n",
       "      <td>Four young friends, while taking a shortcut en...</td>\n",
       "    </tr>\n",
       "    <tr>\n",
       "      <th>6</th>\n",
       "      <td>11</td>\n",
       "      <td>Star Wars</td>\n",
       "      <td>[Princess, Leia, is, captured, and, held, host...</td>\n",
       "      <td>[DavidAnkrum, MarkHamill, TimCondren]</td>\n",
       "      <td>[GeorgeLucas]</td>\n",
       "      <td>[Adventure,  Action,  Science Fiction]</td>\n",
       "      <td>Princess Leia is captured and held hostage by ...</td>\n",
       "    </tr>\n",
       "    <tr>\n",
       "      <th>7</th>\n",
       "      <td>12</td>\n",
       "      <td>Finding Nemo</td>\n",
       "      <td>[Nemo,, an, adventurous, young, clownfish,, is...</td>\n",
       "      <td>[JeffPidgeon, KaliWhitehurst, DannyMann]</td>\n",
       "      <td>[AndrewStanton]</td>\n",
       "      <td>[Animation,  Family]</td>\n",
       "      <td>Nemo, an adventurous young clownfish, is unexp...</td>\n",
       "    </tr>\n",
       "    <tr>\n",
       "      <th>8</th>\n",
       "      <td>13</td>\n",
       "      <td>Forrest Gump</td>\n",
       "      <td>[A, man, with, a, low, IQ, has, accomplished, ...</td>\n",
       "      <td>[ZachHanner, ConorKennelly, ElvisPresley]</td>\n",
       "      <td>[RobertZemeckis]</td>\n",
       "      <td>[Comedy,  Drama,  Romance]</td>\n",
       "      <td>A man with a low IQ has accomplished great thi...</td>\n",
       "    </tr>\n",
       "    <tr>\n",
       "      <th>...</th>\n",
       "      <td>...</td>\n",
       "      <td>...</td>\n",
       "      <td>...</td>\n",
       "      <td>...</td>\n",
       "      <td>...</td>\n",
       "      <td>...</td>\n",
       "      <td>...</td>\n",
       "    </tr>\n",
       "    <tr>\n",
       "      <th>1041219</th>\n",
       "      <td>1416131</td>\n",
       "      <td>Steps</td>\n",
       "      <td>[When, Molly, moves, into, a, new, house,, she...</td>\n",
       "      <td>[MoriChristian, KrisJ.Cummins]</td>\n",
       "      <td>[RussellMiller]</td>\n",
       "      <td>[Horror]</td>\n",
       "      <td>When Molly moves into a new house, she soon di...</td>\n",
       "    </tr>\n",
       "    <tr>\n",
       "      <th>1049001</th>\n",
       "      <td>1426142</td>\n",
       "      <td>Sosyal Climbers</td>\n",
       "      <td>[Stuck, with, a, massive, debt, after, falling...</td>\n",
       "      <td>[JanSilverio, MarisRacal, GemmaMasas]</td>\n",
       "      <td>[JasonPaulLaxamana]</td>\n",
       "      <td>[Romance,  Comedy]</td>\n",
       "      <td>Stuck with a massive debt after falling for a ...</td>\n",
       "    </tr>\n",
       "    <tr>\n",
       "      <th>1051552</th>\n",
       "      <td>1429172</td>\n",
       "      <td>Halo4ForwardUntoDawn</td>\n",
       "      <td>[Set, against, the, backdrop, of, a, United, N...</td>\n",
       "      <td>[TonyGiroux, DanielCudmore, SeanCarey]</td>\n",
       "      <td>[StewartHendler]</td>\n",
       "      <td>[Science Fiction,  Action,  Thriller,  War]</td>\n",
       "      <td>Set against the backdrop of a United Nations S...</td>\n",
       "    </tr>\n",
       "    <tr>\n",
       "      <th>1060661</th>\n",
       "      <td>1439845</td>\n",
       "      <td>L'amore che vorrei</td>\n",
       "      <td>[Five, women, are, victims, of, various, forms...</td>\n",
       "      <td>[MichelleHunziker, ClaudiaPotenza, MichelaAndr...</td>\n",
       "      <td>[GabrielePignotta]</td>\n",
       "      <td>[Drama]</td>\n",
       "      <td>Five women are victims of various forms of vio...</td>\n",
       "    </tr>\n",
       "    <tr>\n",
       "      <th>1060933</th>\n",
       "      <td>1440153</td>\n",
       "      <td>The Arrival</td>\n",
       "      <td>[Four, strangers, converge, at, a, restaurant,...</td>\n",
       "      <td>[NikolasElrifi, InesLadha, AliceHeberMartins]</td>\n",
       "      <td>[AlyssaRalloBennett]</td>\n",
       "      <td>[Drama]</td>\n",
       "      <td>Four strangers converge at a restaurant to inv...</td>\n",
       "    </tr>\n",
       "  </tbody>\n",
       "</table>\n",
       "<p>26820 rows × 7 columns</p>\n",
       "</div>"
      ],
      "text/plain": [
       "              id                 title  \\\n",
       "2              5            Four Rooms   \n",
       "3              6        Judgment Night   \n",
       "6             11             Star Wars   \n",
       "7             12          Finding Nemo   \n",
       "8             13          Forrest Gump   \n",
       "...          ...                   ...   \n",
       "1041219  1416131                 Steps   \n",
       "1049001  1426142       Sosyal Climbers   \n",
       "1051552  1429172  Halo4ForwardUntoDawn   \n",
       "1060661  1439845    L'amore che vorrei   \n",
       "1060933  1440153           The Arrival   \n",
       "\n",
       "                                                  overview  \\\n",
       "2        [It's, Ted, the, Bellhop's, first, night, on, ...   \n",
       "3        [Four, young, friends,, while, taking, a, shor...   \n",
       "6        [Princess, Leia, is, captured, and, held, host...   \n",
       "7        [Nemo,, an, adventurous, young, clownfish,, is...   \n",
       "8        [A, man, with, a, low, IQ, has, accomplished, ...   \n",
       "...                                                    ...   \n",
       "1041219  [When, Molly, moves, into, a, new, house,, she...   \n",
       "1049001  [Stuck, with, a, massive, debt, after, falling...   \n",
       "1051552  [Set, against, the, backdrop, of, a, United, N...   \n",
       "1060661  [Five, women, are, victims, of, various, forms...   \n",
       "1060933  [Four, strangers, converge, at, a, restaurant,...   \n",
       "\n",
       "                                                      cast  \\\n",
       "2             [AntonioBanderas, SammiDavis, KimberlyBlair]   \n",
       "3                      [StephenDorff, Everlast, WillZahrn]   \n",
       "6                    [DavidAnkrum, MarkHamill, TimCondren]   \n",
       "7                 [JeffPidgeon, KaliWhitehurst, DannyMann]   \n",
       "8                [ZachHanner, ConorKennelly, ElvisPresley]   \n",
       "...                                                    ...   \n",
       "1041219                     [MoriChristian, KrisJ.Cummins]   \n",
       "1049001              [JanSilverio, MarisRacal, GemmaMasas]   \n",
       "1051552             [TonyGiroux, DanielCudmore, SeanCarey]   \n",
       "1060661  [MichelleHunziker, ClaudiaPotenza, MichelaAndr...   \n",
       "1060933      [NikolasElrifi, InesLadha, AliceHeberMartins]   \n",
       "\n",
       "                     director                                       genres  \\\n",
       "2             [AllisonAnders]                             [Comedy,  Crime]   \n",
       "3            [StephenHopkins]                  [Action,  Crime,  Thriller]   \n",
       "6               [GeorgeLucas]       [Adventure,  Action,  Science Fiction]   \n",
       "7             [AndrewStanton]                         [Animation,  Family]   \n",
       "8            [RobertZemeckis]                   [Comedy,  Drama,  Romance]   \n",
       "...                       ...                                          ...   \n",
       "1041219       [RussellMiller]                                     [Horror]   \n",
       "1049001   [JasonPaulLaxamana]                           [Romance,  Comedy]   \n",
       "1051552      [StewartHendler]  [Science Fiction,  Action,  Thriller,  War]   \n",
       "1060661    [GabrielePignotta]                                      [Drama]   \n",
       "1060933  [AlyssaRalloBennett]                                      [Drama]   \n",
       "\n",
       "                                                      tags  \n",
       "2        It's Ted the Bellhop's first night on the job....  \n",
       "3        Four young friends, while taking a shortcut en...  \n",
       "6        Princess Leia is captured and held hostage by ...  \n",
       "7        Nemo, an adventurous young clownfish, is unexp...  \n",
       "8        A man with a low IQ has accomplished great thi...  \n",
       "...                                                    ...  \n",
       "1041219  When Molly moves into a new house, she soon di...  \n",
       "1049001  Stuck with a massive debt after falling for a ...  \n",
       "1051552  Set against the backdrop of a United Nations S...  \n",
       "1060661  Five women are victims of various forms of vio...  \n",
       "1060933  Four strangers converge at a restaurant to inv...  \n",
       "\n",
       "[26820 rows x 7 columns]"
      ]
     },
     "execution_count": 45,
     "metadata": {},
     "output_type": "execute_result"
    }
   ],
   "source": [
    "updated_df"
   ]
  },
  {
   "cell_type": "code",
   "execution_count": 46,
   "metadata": {},
   "outputs": [],
   "source": [
    "structured_df=updated_df[[\"id\",\"title\",\"tags\"]]"
   ]
  },
  {
   "cell_type": "code",
   "execution_count": 47,
   "metadata": {},
   "outputs": [
    {
     "data": {
      "text/html": [
       "<div>\n",
       "<style scoped>\n",
       "    .dataframe tbody tr th:only-of-type {\n",
       "        vertical-align: middle;\n",
       "    }\n",
       "\n",
       "    .dataframe tbody tr th {\n",
       "        vertical-align: top;\n",
       "    }\n",
       "\n",
       "    .dataframe thead th {\n",
       "        text-align: right;\n",
       "    }\n",
       "</style>\n",
       "<table border=\"1\" class=\"dataframe\">\n",
       "  <thead>\n",
       "    <tr style=\"text-align: right;\">\n",
       "      <th></th>\n",
       "      <th>id</th>\n",
       "      <th>title</th>\n",
       "      <th>tags</th>\n",
       "    </tr>\n",
       "  </thead>\n",
       "  <tbody>\n",
       "    <tr>\n",
       "      <th>2</th>\n",
       "      <td>5</td>\n",
       "      <td>Four Rooms</td>\n",
       "      <td>It's Ted the Bellhop's first night on the job....</td>\n",
       "    </tr>\n",
       "    <tr>\n",
       "      <th>3</th>\n",
       "      <td>6</td>\n",
       "      <td>Judgment Night</td>\n",
       "      <td>Four young friends, while taking a shortcut en...</td>\n",
       "    </tr>\n",
       "    <tr>\n",
       "      <th>6</th>\n",
       "      <td>11</td>\n",
       "      <td>Star Wars</td>\n",
       "      <td>Princess Leia is captured and held hostage by ...</td>\n",
       "    </tr>\n",
       "    <tr>\n",
       "      <th>7</th>\n",
       "      <td>12</td>\n",
       "      <td>Finding Nemo</td>\n",
       "      <td>Nemo, an adventurous young clownfish, is unexp...</td>\n",
       "    </tr>\n",
       "    <tr>\n",
       "      <th>8</th>\n",
       "      <td>13</td>\n",
       "      <td>Forrest Gump</td>\n",
       "      <td>A man with a low IQ has accomplished great thi...</td>\n",
       "    </tr>\n",
       "    <tr>\n",
       "      <th>...</th>\n",
       "      <td>...</td>\n",
       "      <td>...</td>\n",
       "      <td>...</td>\n",
       "    </tr>\n",
       "    <tr>\n",
       "      <th>1041219</th>\n",
       "      <td>1416131</td>\n",
       "      <td>Steps</td>\n",
       "      <td>When Molly moves into a new house, she soon di...</td>\n",
       "    </tr>\n",
       "    <tr>\n",
       "      <th>1049001</th>\n",
       "      <td>1426142</td>\n",
       "      <td>Sosyal Climbers</td>\n",
       "      <td>Stuck with a massive debt after falling for a ...</td>\n",
       "    </tr>\n",
       "    <tr>\n",
       "      <th>1051552</th>\n",
       "      <td>1429172</td>\n",
       "      <td>Halo4ForwardUntoDawn</td>\n",
       "      <td>Set against the backdrop of a United Nations S...</td>\n",
       "    </tr>\n",
       "    <tr>\n",
       "      <th>1060661</th>\n",
       "      <td>1439845</td>\n",
       "      <td>L'amore che vorrei</td>\n",
       "      <td>Five women are victims of various forms of vio...</td>\n",
       "    </tr>\n",
       "    <tr>\n",
       "      <th>1060933</th>\n",
       "      <td>1440153</td>\n",
       "      <td>The Arrival</td>\n",
       "      <td>Four strangers converge at a restaurant to inv...</td>\n",
       "    </tr>\n",
       "  </tbody>\n",
       "</table>\n",
       "<p>26820 rows × 3 columns</p>\n",
       "</div>"
      ],
      "text/plain": [
       "              id                 title  \\\n",
       "2              5            Four Rooms   \n",
       "3              6        Judgment Night   \n",
       "6             11             Star Wars   \n",
       "7             12          Finding Nemo   \n",
       "8             13          Forrest Gump   \n",
       "...          ...                   ...   \n",
       "1041219  1416131                 Steps   \n",
       "1049001  1426142       Sosyal Climbers   \n",
       "1051552  1429172  Halo4ForwardUntoDawn   \n",
       "1060661  1439845    L'amore che vorrei   \n",
       "1060933  1440153           The Arrival   \n",
       "\n",
       "                                                      tags  \n",
       "2        It's Ted the Bellhop's first night on the job....  \n",
       "3        Four young friends, while taking a shortcut en...  \n",
       "6        Princess Leia is captured and held hostage by ...  \n",
       "7        Nemo, an adventurous young clownfish, is unexp...  \n",
       "8        A man with a low IQ has accomplished great thi...  \n",
       "...                                                    ...  \n",
       "1041219  When Molly moves into a new house, she soon di...  \n",
       "1049001  Stuck with a massive debt after falling for a ...  \n",
       "1051552  Set against the backdrop of a United Nations S...  \n",
       "1060661  Five women are victims of various forms of vio...  \n",
       "1060933  Four strangers converge at a restaurant to inv...  \n",
       "\n",
       "[26820 rows x 3 columns]"
      ]
     },
     "execution_count": 47,
     "metadata": {},
     "output_type": "execute_result"
    }
   ],
   "source": [
    "structured_df"
   ]
  },
  {
   "cell_type": "code",
   "execution_count": 49,
   "metadata": {},
   "outputs": [],
   "source": [
    "structured_df[\"tags\"]=structured_df[\"tags\"].apply(lambda x:x.lower())"
   ]
  },
  {
   "cell_type": "code",
   "execution_count": 50,
   "metadata": {},
   "outputs": [
    {
     "data": {
      "text/html": [
       "<div>\n",
       "<style scoped>\n",
       "    .dataframe tbody tr th:only-of-type {\n",
       "        vertical-align: middle;\n",
       "    }\n",
       "\n",
       "    .dataframe tbody tr th {\n",
       "        vertical-align: top;\n",
       "    }\n",
       "\n",
       "    .dataframe thead th {\n",
       "        text-align: right;\n",
       "    }\n",
       "</style>\n",
       "<table border=\"1\" class=\"dataframe\">\n",
       "  <thead>\n",
       "    <tr style=\"text-align: right;\">\n",
       "      <th></th>\n",
       "      <th>id</th>\n",
       "      <th>title</th>\n",
       "      <th>tags</th>\n",
       "    </tr>\n",
       "  </thead>\n",
       "  <tbody>\n",
       "    <tr>\n",
       "      <th>2</th>\n",
       "      <td>5</td>\n",
       "      <td>Four Rooms</td>\n",
       "      <td>it's ted the bellhop's first night on the job....</td>\n",
       "    </tr>\n",
       "    <tr>\n",
       "      <th>3</th>\n",
       "      <td>6</td>\n",
       "      <td>Judgment Night</td>\n",
       "      <td>four young friends, while taking a shortcut en...</td>\n",
       "    </tr>\n",
       "    <tr>\n",
       "      <th>6</th>\n",
       "      <td>11</td>\n",
       "      <td>Star Wars</td>\n",
       "      <td>princess leia is captured and held hostage by ...</td>\n",
       "    </tr>\n",
       "    <tr>\n",
       "      <th>7</th>\n",
       "      <td>12</td>\n",
       "      <td>Finding Nemo</td>\n",
       "      <td>nemo, an adventurous young clownfish, is unexp...</td>\n",
       "    </tr>\n",
       "    <tr>\n",
       "      <th>8</th>\n",
       "      <td>13</td>\n",
       "      <td>Forrest Gump</td>\n",
       "      <td>a man with a low iq has accomplished great thi...</td>\n",
       "    </tr>\n",
       "    <tr>\n",
       "      <th>...</th>\n",
       "      <td>...</td>\n",
       "      <td>...</td>\n",
       "      <td>...</td>\n",
       "    </tr>\n",
       "    <tr>\n",
       "      <th>1041219</th>\n",
       "      <td>1416131</td>\n",
       "      <td>Steps</td>\n",
       "      <td>when molly moves into a new house, she soon di...</td>\n",
       "    </tr>\n",
       "    <tr>\n",
       "      <th>1049001</th>\n",
       "      <td>1426142</td>\n",
       "      <td>Sosyal Climbers</td>\n",
       "      <td>stuck with a massive debt after falling for a ...</td>\n",
       "    </tr>\n",
       "    <tr>\n",
       "      <th>1051552</th>\n",
       "      <td>1429172</td>\n",
       "      <td>Halo4ForwardUntoDawn</td>\n",
       "      <td>set against the backdrop of a united nations s...</td>\n",
       "    </tr>\n",
       "    <tr>\n",
       "      <th>1060661</th>\n",
       "      <td>1439845</td>\n",
       "      <td>L'amore che vorrei</td>\n",
       "      <td>five women are victims of various forms of vio...</td>\n",
       "    </tr>\n",
       "    <tr>\n",
       "      <th>1060933</th>\n",
       "      <td>1440153</td>\n",
       "      <td>The Arrival</td>\n",
       "      <td>four strangers converge at a restaurant to inv...</td>\n",
       "    </tr>\n",
       "  </tbody>\n",
       "</table>\n",
       "<p>26820 rows × 3 columns</p>\n",
       "</div>"
      ],
      "text/plain": [
       "              id                 title  \\\n",
       "2              5            Four Rooms   \n",
       "3              6        Judgment Night   \n",
       "6             11             Star Wars   \n",
       "7             12          Finding Nemo   \n",
       "8             13          Forrest Gump   \n",
       "...          ...                   ...   \n",
       "1041219  1416131                 Steps   \n",
       "1049001  1426142       Sosyal Climbers   \n",
       "1051552  1429172  Halo4ForwardUntoDawn   \n",
       "1060661  1439845    L'amore che vorrei   \n",
       "1060933  1440153           The Arrival   \n",
       "\n",
       "                                                      tags  \n",
       "2        it's ted the bellhop's first night on the job....  \n",
       "3        four young friends, while taking a shortcut en...  \n",
       "6        princess leia is captured and held hostage by ...  \n",
       "7        nemo, an adventurous young clownfish, is unexp...  \n",
       "8        a man with a low iq has accomplished great thi...  \n",
       "...                                                    ...  \n",
       "1041219  when molly moves into a new house, she soon di...  \n",
       "1049001  stuck with a massive debt after falling for a ...  \n",
       "1051552  set against the backdrop of a united nations s...  \n",
       "1060661  five women are victims of various forms of vio...  \n",
       "1060933  four strangers converge at a restaurant to inv...  \n",
       "\n",
       "[26820 rows x 3 columns]"
      ]
     },
     "execution_count": 50,
     "metadata": {},
     "output_type": "execute_result"
    }
   ],
   "source": [
    "structured_df"
   ]
  },
  {
   "cell_type": "markdown",
   "metadata": {},
   "source": [
    "# VECTORIZATION (BAG OF WORDS) CAN ALSO USE WORD2VEC, tifz"
   ]
  },
  {
   "cell_type": "code",
   "execution_count": null,
   "metadata": {},
   "outputs": [],
   "source": [
    "structured_df.reset_index(inplace=True)\n",
    "structured_df.drop([\"index\"],axis=1,inplace=True)"
   ]
  },
  {
   "cell_type": "code",
   "execution_count": null,
   "metadata": {},
   "outputs": [],
   "source": [
    "from nltk.stem import PorterStemmer\n",
    "# we use Stemmer for making different tense word to root word \n",
    "# e.g [loved,love,loving]-> love"
   ]
  },
  {
   "cell_type": "code",
   "execution_count": 53,
   "metadata": {},
   "outputs": [],
   "source": [
    "ps=PorterStemmer()"
   ]
  },
  {
   "cell_type": "code",
   "execution_count": 54,
   "metadata": {},
   "outputs": [],
   "source": [
    "def stemmer(text):\n",
    "    y=[]\n",
    "    for  i in text.split(\" \"):\n",
    "        y.append(ps.stem(i))\n",
    "    return \" \".join(y)\n"
   ]
  },
  {
   "cell_type": "code",
   "execution_count": 58,
   "metadata": {},
   "outputs": [],
   "source": [
    "structured_df[\"tags\"]=structured_df[\"tags\"].apply(stemmer)"
   ]
  },
  {
   "cell_type": "code",
   "execution_count": 59,
   "metadata": {},
   "outputs": [],
   "source": [
    "from sklearn.feature_extraction.text import CountVectorizer"
   ]
  },
  {
   "cell_type": "code",
   "execution_count": 68,
   "metadata": {},
   "outputs": [],
   "source": [
    "cv=CountVectorizer(max_features=5000,stop_words=\"english\")"
   ]
  },
  {
   "cell_type": "code",
   "execution_count": 69,
   "metadata": {},
   "outputs": [],
   "source": [
    "vectors=cv.fit_transform(structured_df[\"tags\"]).toarray()"
   ]
  },
  {
   "cell_type": "code",
   "execution_count": 71,
   "metadata": {},
   "outputs": [
    {
     "data": {
      "text/plain": [
       "5000"
      ]
     },
     "execution_count": 71,
     "metadata": {},
     "output_type": "execute_result"
    }
   ],
   "source": [
    "len(cv.get_feature_names_out())"
   ]
  },
  {
   "cell_type": "code",
   "execution_count": 76,
   "metadata": {},
   "outputs": [],
   "source": [
    "from sklearn.metrics.pairwise import cosine_similarity"
   ]
  },
  {
   "cell_type": "code",
   "execution_count": null,
   "metadata": {},
   "outputs": [
    {
     "data": {
      "text/plain": [
       "array([[1.        , 0.06063391, 0.        , ..., 0.03008284, 0.        ,\n",
       "        0.        ],\n",
       "       [0.06063391, 1.        , 0.04351941, ..., 0.06201737, 0.        ,\n",
       "        0.        ],\n",
       "       [0.        , 0.04351941, 1.        , ..., 0.06477503, 0.        ,\n",
       "        0.        ],\n",
       "       ...,\n",
       "       [0.03008284, 0.06201737, 0.06477503, ..., 1.        , 0.03008284,\n",
       "        0.        ],\n",
       "       [0.        , 0.        , 0.        , ..., 0.03008284, 1.        ,\n",
       "        0.08574929],\n",
       "       [0.        , 0.        , 0.        , ..., 0.        , 0.08574929,\n",
       "        1.        ]], shape=(26820, 26820))"
      ]
     },
     "execution_count": 109,
     "metadata": {},
     "output_type": "execute_result"
    }
   ],
   "source": []
  },
  {
   "cell_type": "code",
   "execution_count": null,
   "metadata": {},
   "outputs": [],
   "source": [
    "distances=cosine_similarity(vectors)"
   ]
  },
  {
   "cell_type": "code",
   "execution_count": 110,
   "metadata": {},
   "outputs": [
    {
     "data": {
      "text/plain": [
       "(26820, 26820)"
      ]
     },
     "execution_count": 110,
     "metadata": {},
     "output_type": "execute_result"
    }
   ],
   "source": [
    "distances.shape"
   ]
  },
  {
   "cell_type": "markdown",
   "metadata": {},
   "source": [
    "# MAIN FUNCTION FOR RETRIVING RECOMMENDATE MOVIES"
   ]
  },
  {
   "cell_type": "code",
   "execution_count": 193,
   "metadata": {},
   "outputs": [],
   "source": [
    "def recommendate_system(movie_name):\n",
    "    movie_index=(df[df[\"title\"]==movie_name]).index[0]\n",
    "    distance_vector=top_50_distance[movie_index]\n",
    "    recommendate_movies=distance_vector[0:5]\n",
    "    \n",
    "    movie_names=[]\n",
    "\n",
    "    for i in recommendate_movies:\n",
    "        print(df.iloc[i[0]][\"title\"])\n",
    "        \n",
    "    "
   ]
  },
  {
   "cell_type": "code",
   "execution_count": 194,
   "metadata": {},
   "outputs": [
    {
     "name": "stdout",
     "output_type": "stream",
     "text": [
      "The Empire Strikes Back\n",
      "Star Wars: The Force Awakens\n",
      "Samson and the 7 Miracles of the World\n",
      "Return of the Jedi\n",
      "The Star Wars Holiday Special\n"
     ]
    }
   ],
   "source": [
    "recommendate_system(\"Star Wars\")"
   ]
  },
  {
   "cell_type": "code",
   "execution_count": 143,
   "metadata": {},
   "outputs": [
    {
     "name": "stdout",
     "output_type": "stream",
     "text": [
      "The Empire Strikes Back\n",
      "Star Wars: The Force Awakens\n",
      "Samson and the 7 Miracles of the World\n",
      "Return of the Jedi\n",
      "The Star Wars Holiday Special\n"
     ]
    }
   ],
   "source": [
    "recommendate_system(\"Star Wars\")"
   ]
  },
  {
   "cell_type": "code",
   "execution_count": null,
   "metadata": {},
   "outputs": [],
   "source": [
    "#store top 50 movies similiar for each movie for reducing size from 26820 x 26820 to 26820 x 50\n",
    "\n",
    "top_50_distance=[]\n",
    "for i in distances:\n",
    "    top_50_distance.append(sorted(list(enumerate(i)),reverse=True,key=lambda x:x[1])[1:51])"
   ]
  },
  {
   "cell_type": "markdown",
   "metadata": {},
   "source": [
    "# STORE IMPORTANT HELPERS FOR MOVIE RECOMMENDATION IN PKL FORMAT"
   ]
  },
  {
   "cell_type": "code",
   "execution_count": 170,
   "metadata": {},
   "outputs": [
    {
     "data": {
      "text/plain": [
       "['model_helpers/similarity.pkl']"
      ]
     },
     "execution_count": 170,
     "metadata": {},
     "output_type": "execute_result"
    }
   ],
   "source": [
    "from joblib import dump\n",
    "dump(top_50_distance, \"model_helpers/similarity.pkl\")\n"
   ]
  },
  {
   "cell_type": "code",
   "execution_count": 173,
   "metadata": {},
   "outputs": [],
   "source": [
    "df.reset_index(inplace=True)\n",
    "df.drop([\"index\"],axis=1,inplace=True)"
   ]
  },
  {
   "cell_type": "code",
   "execution_count": 175,
   "metadata": {},
   "outputs": [
    {
     "data": {
      "text/plain": [
       "['model_helpers/movie_metadata.pkl']"
      ]
     },
     "execution_count": 175,
     "metadata": {},
     "output_type": "execute_result"
    }
   ],
   "source": [
    "dump(df, \"model_helpers/movie_metadata.pkl\")"
   ]
  },
  {
   "cell_type": "code",
   "execution_count": 195,
   "metadata": {},
   "outputs": [],
   "source": [
    "df.to_csv(\"Data/TMDB_MOVIE_SUBDATASET.csv\")"
   ]
  },
  {
   "cell_type": "markdown",
   "metadata": {},
   "source": [
    "# END \n",
    "<hr/>"
   ]
  }
 ],
 "metadata": {
  "kernelspec": {
   "display_name": "env",
   "language": "python",
   "name": "python3"
  },
  "language_info": {
   "codemirror_mode": {
    "name": "ipython",
    "version": 3
   },
   "file_extension": ".py",
   "mimetype": "text/x-python",
   "name": "python",
   "nbconvert_exporter": "python",
   "pygments_lexer": "ipython3",
   "version": "3.12.7"
  }
 },
 "nbformat": 4,
 "nbformat_minor": 2
}
